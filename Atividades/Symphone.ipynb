{
  "nbformat": 4,
  "nbformat_minor": 0,
  "metadata": {
    "colab": {
      "provenance": [],
      "collapsed_sections": [
        "omlpfyUcC6p6",
        "LChNeA0hIfaN",
        "TPf6rr90ZoyW",
        "sML4WyKK68zD"
      ],
      "toc_visible": true
    },
    "kernelspec": {
      "name": "python3",
      "display_name": "Python 3"
    },
    "language_info": {
      "name": "python"
    }
  },
  "cells": [
    {
      "cell_type": "markdown",
      "source": [
        "## **FUNDAMENTOS DE PYTHON**\n",
        "\n",
        "Escola: SoulCode Academy\n",
        "\n",
        "Curso: Bootcamp Analista de Dados - Martech - AD2\n",
        "\n",
        "Período: Semana 4\n",
        "\n",
        "Professor: Franciane Rodrigues\n",
        "\n",
        "Aluno: Anderson Figueirêdo Melo"
      ],
      "metadata": {
        "id": "omlpfyUcC6p6"
      }
    },
    {
      "cell_type": "markdown",
      "source": [
        "* **Lógica de programação:** é um conceito teórico que se refere à forma de pensar e abordar problemas de programação.\n",
        "\n",
        "* **Algoritmo** é uma descrição abstrata de um processo ou solução que poderá ser executado por um computador;\n",
        "* **Script** é um conjunto de instruções ou comandos escritos em uma linguagem de programação específica. Geralmente, os scripts são usados para automatizar tarefas ou para definir o comportamento de um programa ou sistema. Eles são frequentemente executados interpretando linha por linha, em vez de serem compilados em um programa executável separado.\n",
        "* **Programa** é  um conjunto de instruções escritas em uma linguagem de programação específica, organizadas de forma lógica, para realizar uma tarefa ou resolver um problema específico. Ao contrário de um script, um programa é compilado ou interpretado antes da execução, resultando em um arquivo executável que pode ser executado diretamente em um sistema operacional."
      ],
      "metadata": {
        "id": "jAZeNKCiF-xb"
      }
    },
    {
      "cell_type": "markdown",
      "source": [
        "## **Comentários e tipos básicos de dados**"
      ],
      "metadata": {
        "id": "LChNeA0hIfaN"
      }
    },
    {
      "cell_type": "markdown",
      "source": [
        "### Primeiro código - Óla Mundo"
      ],
      "metadata": {
        "id": "SoGtzLzAcMIF"
      }
    },
    {
      "cell_type": "code",
      "execution_count": null,
      "metadata": {
        "colab": {
          "base_uri": "https://localhost:8080/"
        },
        "id": "4pWqOJ1ZCMHb",
        "outputId": "a4007b01-533f-4870-d8a2-714d276671a3"
      },
      "outputs": [
        {
          "output_type": "stream",
          "name": "stdout",
          "text": [
            "Olá, Mundo!\n",
            "Olá, Mundo!\n"
          ]
        }
      ],
      "source": [
        "print('Olá, Mundo!') # Usando aspas simples\n",
        "print(\"Olá, Mundo!\") # Usando aspas duplas"
      ]
    },
    {
      "cell_type": "markdown",
      "source": [
        "### Tipos de comentários"
      ],
      "metadata": {
        "id": "hr5S4DBYcV9S"
      }
    },
    {
      "cell_type": "code",
      "source": [
        "# Istó é um comentário"
      ],
      "metadata": {
        "id": "4fLaTZNcMvYu"
      },
      "execution_count": null,
      "outputs": []
    },
    {
      "cell_type": "code",
      "source": [
        "'''Isto é um comentário grande'''"
      ],
      "metadata": {
        "colab": {
          "base_uri": "https://localhost:8080/",
          "height": 35
        },
        "id": "OSmY9GToNWkF",
        "outputId": "23f9f25f-a247-46f3-a235-c26cfcbee95f"
      },
      "execution_count": null,
      "outputs": [
        {
          "output_type": "execute_result",
          "data": {
            "text/plain": [
              "'Isto é um comentário grande'"
            ],
            "application/vnd.google.colaboratory.intrinsic+json": {
              "type": "string"
            }
          },
          "metadata": {},
          "execution_count": 3
        }
      ]
    },
    {
      "cell_type": "code",
      "source": [
        "\"\"\"\n",
        "Isto\n",
        "é\n",
        "outro\n",
        "comentário\n",
        "\"\"\""
      ],
      "metadata": {
        "colab": {
          "base_uri": "https://localhost:8080/",
          "height": 537
        },
        "id": "i-RUA50MOgK3",
        "outputId": "ed00615c-6a2c-4bab-a7f6-18f3f2a47a1c"
      },
      "execution_count": null,
      "outputs": [
        {
          "output_type": "execute_result",
          "data": {
            "text/plain": [
              "'\\nIsto\\né\\noutro\\ncomentário\\n'"
            ],
            "application/vnd.google.colaboratory.intrinsic+json": {
              "type": "string"
            }
          },
          "metadata": {},
          "execution_count": 4
        }
      ]
    },
    {
      "cell_type": "code",
      "source": [
        "# Isto é\n",
        "# um\n",
        "# espanto!"
      ],
      "metadata": {
        "id": "HcGCujdaOlT-"
      },
      "execution_count": null,
      "outputs": []
    },
    {
      "cell_type": "markdown",
      "source": [
        "### Tipos de dados"
      ],
      "metadata": {
        "id": "hA7n-pPvc0SZ"
      }
    },
    {
      "cell_type": "markdown",
      "source": [
        "![Foto 1.png](data:image/png;base64,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)"
      ],
      "metadata": {
        "id": "t2Dp1g_0Rkdl"
      }
    },
    {
      "cell_type": "code",
      "source": [
        "# Estamos escrevendo nossos dados pessoais\n",
        "print(34) # int - quantitativa\n",
        "print(1.82) # float - quantitativa\n",
        "print('Anderson') # str escrita com aspas simples - qualitativa\n",
        "print(\"Figueirêdo\") # str escrita com aspas duplas - qualitativa\n",
        "print(False) # Bool - qualitativa"
      ],
      "metadata": {
        "colab": {
          "base_uri": "https://localhost:8080/"
        },
        "id": "q9LvqJM5RsBV",
        "outputId": "59e913f8-f78d-4f9d-ccdb-31b06d03b7af"
      },
      "execution_count": null,
      "outputs": [
        {
          "output_type": "stream",
          "name": "stdout",
          "text": [
            "34\n",
            "1.82\n",
            "Anderson\n",
            "Figueirêdo\n",
            "False\n"
          ]
        }
      ]
    },
    {
      "cell_type": "code",
      "source": [],
      "metadata": {
        "id": "8yWZmf4FUEfv"
      },
      "execution_count": null,
      "outputs": []
    },
    {
      "cell_type": "markdown",
      "source": [
        "**RESUMO**\n",
        "\n",
        "*   Os **comentários** são como notas que você deixa para que você ou outra pessoa possa ler e ajuda documentar o seu código\n",
        "*   **Comando print:** é uma função de saída utilizada em várias linguagens de\n",
        "programação para exibir mensagens ou valores na tela do computador.\n",
        "*   **\\n**: usado para criar quebras de linha em um texto\n",
        "*   Tipos de dados no Python mais usados são int, float, str, bool\n",
        "*   int e float: dados quantitativos\n",
        "*   str: dados categóricos / qualitativos"
      ],
      "metadata": {
        "id": "RjHpFp-eVPQi"
      }
    },
    {
      "cell_type": "markdown",
      "source": [
        "## **Variáveis**"
      ],
      "metadata": {
        "id": "TPf6rr90ZoyW"
      }
    },
    {
      "cell_type": "markdown",
      "source": [
        "### Declarando as primeiras variáveis"
      ],
      "metadata": {
        "id": "rtiZnpZoet6X"
      }
    },
    {
      "cell_type": "code",
      "source": [
        "# Estamos escrevendo nossos dados pessoais\n",
        "print(34) # int - quantitativa\n",
        "print(1.82) # float - quantitativa\n",
        "print('Anderson') # str escrita com aspas simples - qualitativa\n",
        "print(\"Figueirêdo\") # sttr escrita com aspas duplas - qualitativa\n",
        "print(False) # Bool - qualitativa"
      ],
      "metadata": {
        "colab": {
          "base_uri": "https://localhost:8080/"
        },
        "id": "h726WZslVPyG",
        "outputId": "4a746488-c1ec-48d5-b0ff-b8097ca2b46a"
      },
      "execution_count": null,
      "outputs": [
        {
          "output_type": "stream",
          "name": "stdout",
          "text": [
            "34\n",
            "1.82\n",
            "Anderson\n",
            "Figueirêdo\n",
            "False\n"
          ]
        }
      ]
    },
    {
      "cell_type": "code",
      "source": [
        "# Declarando variáveis\n",
        "idade = 34\n",
        "altura = 1.82\n",
        "nome = 'Anderson'\n",
        "sobrenome = \"Figueirêdo\"\n",
        "filhos = False"
      ],
      "metadata": {
        "id": "i0bl_nghaIeO"
      },
      "execution_count": null,
      "outputs": []
    },
    {
      "cell_type": "markdown",
      "source": [
        "### Comando (print)"
      ],
      "metadata": {
        "id": "CbfO7jEVhdtm"
      }
    },
    {
      "cell_type": "code",
      "source": [
        "# Imprimir na tela usando comando print\n",
        "print(idade)\n",
        "print(altura)\n",
        "print(nome)\n",
        "print(sobrenome)\n",
        "print(filhos)"
      ],
      "metadata": {
        "colab": {
          "base_uri": "https://localhost:8080/"
        },
        "id": "MbBddVD5bSvH",
        "outputId": "b81df445-800a-4d9e-d879-5e072c737cf8"
      },
      "execution_count": null,
      "outputs": [
        {
          "output_type": "stream",
          "name": "stdout",
          "text": [
            "34\n",
            "1.82\n",
            "Anderson\n",
            "Figueirêdo\n",
            "False\n"
          ]
        }
      ]
    },
    {
      "cell_type": "code",
      "source": [
        "# Imprimir na tela usando apenas o nome da variável\n",
        "idade\n",
        "altura\n",
        "nome\n",
        "sobrenome"
      ],
      "metadata": {
        "colab": {
          "base_uri": "https://localhost:8080/",
          "height": 35
        },
        "id": "6OdRaIxobfaN",
        "outputId": "d5abc487-bfd6-42d1-ffe4-88158b545959"
      },
      "execution_count": null,
      "outputs": [
        {
          "output_type": "execute_result",
          "data": {
            "text/plain": [
              "'Figueirêdo'"
            ],
            "application/vnd.google.colaboratory.intrinsic+json": {
              "type": "string"
            }
          },
          "metadata": {},
          "execution_count": 11
        }
      ]
    },
    {
      "cell_type": "code",
      "source": [
        "# Impressão geral na tela de todas as variáveis declaradas\n",
        "print(idade, altura, nome, sobrenome, filhos)"
      ],
      "metadata": {
        "colab": {
          "base_uri": "https://localhost:8080/"
        },
        "id": "yJdiDbodbn7f",
        "outputId": "eeaa47b5-4e38-41a4-dcb0-b98696a36d34"
      },
      "execution_count": null,
      "outputs": [
        {
          "output_type": "stream",
          "name": "stdout",
          "text": [
            "34 1.82 Anderson Figueirêdo False\n"
          ]
        }
      ]
    },
    {
      "cell_type": "markdown",
      "source": [
        "### Comando (type)"
      ],
      "metadata": {
        "id": "9bYilVDBiEXE"
      }
    },
    {
      "cell_type": "markdown",
      "source": [
        "Serve para checarmos o tipo de dado que a variável está declaradando."
      ],
      "metadata": {
        "id": "VYXTJzWdj3gZ"
      }
    },
    {
      "cell_type": "code",
      "source": [
        "type(idade)"
      ],
      "metadata": {
        "colab": {
          "base_uri": "https://localhost:8080/"
        },
        "id": "7RYBQJsudB-4",
        "outputId": "14c9bf19-b0df-4109-e105-53b9c8687ce8"
      },
      "execution_count": null,
      "outputs": [
        {
          "output_type": "execute_result",
          "data": {
            "text/plain": [
              "int"
            ]
          },
          "metadata": {},
          "execution_count": 14
        }
      ]
    },
    {
      "cell_type": "markdown",
      "source": [
        "Checando o tipo de variável, usando os comandos print e type juntos."
      ],
      "metadata": {
        "id": "v5dSKgwDj-6N"
      }
    },
    {
      "cell_type": "code",
      "source": [
        "\n",
        "print(type(idade))\n",
        "print(type(altura))\n",
        "print(type(nome))\n",
        "print(type(sobrenome))\n",
        "print(type(filhos))"
      ],
      "metadata": {
        "colab": {
          "base_uri": "https://localhost:8080/"
        },
        "id": "NVVCuCrEeb_T",
        "outputId": "d68d3776-19e6-49bb-b93e-5728e172056e"
      },
      "execution_count": null,
      "outputs": [
        {
          "output_type": "stream",
          "name": "stdout",
          "text": [
            "<class 'int'>\n",
            "<class 'float'>\n",
            "<class 'str'>\n",
            "<class 'str'>\n",
            "<class 'bool'>\n"
          ]
        }
      ]
    },
    {
      "cell_type": "markdown",
      "source": [
        "### ATENÇÃO! O Python é sensível as letas maiúsculas e minusculos\n",
        "\n",
        "---\n",
        "\n"
      ],
      "metadata": {
        "id": "whvWmJAHkqJx"
      }
    },
    {
      "cell_type": "code",
      "source": [
        "# nome = 'Anderson'\n",
        "# print(Nome) # Sempre utilizar letras minúscalas para declarar a variável."
      ],
      "metadata": {
        "id": "U_XnYwKFemhM"
      },
      "execution_count": null,
      "outputs": []
    },
    {
      "cell_type": "markdown",
      "source": [
        "### Formas de armazenamento"
      ],
      "metadata": {
        "id": "Ae5Mv7Cck1Gf"
      }
    },
    {
      "cell_type": "markdown",
      "source": [
        "Armazenando strings e número"
      ],
      "metadata": {
        "id": "AzKrspTYmBml"
      }
    },
    {
      "cell_type": "code",
      "source": [
        "nome_completo = 'Anderson Figueirêdo Melo'\n",
        "numero_favorito = \"17\""
      ],
      "metadata": {
        "id": "0xaSZHCdgPp2"
      },
      "execution_count": null,
      "outputs": []
    },
    {
      "cell_type": "markdown",
      "source": [
        "Checando a variável numero_favorito"
      ],
      "metadata": {
        "id": "zlnsdAv8k4ad"
      }
    },
    {
      "cell_type": "code",
      "source": [
        "print(type(numero_favorito))"
      ],
      "metadata": {
        "colab": {
          "base_uri": "https://localhost:8080/"
        },
        "id": "wJ-BnXJehQTc",
        "outputId": "53de5062-32fe-4ec1-86fb-3197114cbf9a"
      },
      "execution_count": null,
      "outputs": [
        {
          "output_type": "stream",
          "name": "stdout",
          "text": [
            "<class 'str'>\n"
          ]
        }
      ]
    },
    {
      "cell_type": "markdown",
      "source": [
        "Se o número estiver entre aspas, ele se transforma em uma string."
      ],
      "metadata": {
        "id": "lTev6_glk7Hf"
      }
    },
    {
      "cell_type": "code",
      "source": [
        "print(f'Meu nome é {nome_completo} e tenho {numero_favorito}')"
      ],
      "metadata": {
        "colab": {
          "base_uri": "https://localhost:8080/"
        },
        "id": "XaVgmMyzhdwk",
        "outputId": "cbb61c22-9ae8-4629-b6cc-ddfc83e2ac61"
      },
      "execution_count": null,
      "outputs": [
        {
          "output_type": "stream",
          "name": "stdout",
          "text": [
            "Meu nome é Anderson Figueirêdo Melo e tenho 17\n"
          ]
        }
      ]
    },
    {
      "cell_type": "markdown",
      "source": [
        "Primeiro nome do nosso código."
      ],
      "metadata": {
        "id": "ioTNKsqUlTCA"
      }
    },
    {
      "cell_type": "code",
      "source": [
        "nome"
      ],
      "metadata": {
        "colab": {
          "base_uri": "https://localhost:8080/",
          "height": 35
        },
        "id": "AsrzspBchzYF",
        "outputId": "be2b19d0-e2cf-4ee5-921b-4a6ffeb84a9e"
      },
      "execution_count": null,
      "outputs": [
        {
          "output_type": "execute_result",
          "data": {
            "text/plain": [
              "'Anderson'"
            ],
            "application/vnd.google.colaboratory.intrinsic+json": {
              "type": "string"
            }
          },
          "metadata": {},
          "execution_count": 22
        }
      ]
    },
    {
      "cell_type": "markdown",
      "source": [
        "### Renomeação da variável"
      ],
      "metadata": {
        "id": "XPlnxOoFlYCE"
      }
    },
    {
      "cell_type": "markdown",
      "source": [
        "Sempre a última alteração será válida"
      ],
      "metadata": {
        "id": "IYGPLin6lkA8"
      }
    },
    {
      "cell_type": "code",
      "source": [
        "nome = 'Alguém'"
      ],
      "metadata": {
        "id": "UgpTRGyV0uPL"
      },
      "execution_count": null,
      "outputs": []
    },
    {
      "cell_type": "markdown",
      "source": [
        "print da variável \"nome\""
      ],
      "metadata": {
        "id": "CHREMdnVmrlM"
      }
    },
    {
      "cell_type": "code",
      "source": [
        " nome"
      ],
      "metadata": {
        "colab": {
          "base_uri": "https://localhost:8080/",
          "height": 35
        },
        "id": "DqhhD2HM0zpk",
        "outputId": "f3d676ed-6fd6-4fb6-c998-82636f4fee3d"
      },
      "execution_count": 29,
      "outputs": [
        {
          "output_type": "execute_result",
          "data": {
            "text/plain": [
              "'Alguém'"
            ],
            "application/vnd.google.colaboratory.intrinsic+json": {
              "type": "string"
            }
          },
          "metadata": {},
          "execution_count": 29
        }
      ]
    },
    {
      "cell_type": "markdown",
      "source": [
        "**Resumo**"
      ],
      "metadata": {
        "id": "WDmGPAt0mk99"
      }
    },
    {
      "cell_type": "markdown",
      "source": [
        "*  **Variáveis** permitem salvar valores na memória usando um nome que atribuímos\n",
        "* Declaramos um nome no lado esquerdo do operador igual (“=”), e no lado direito, atribuir o valor que queremos salvar para usar mais tarde.\n",
        "* Como ler: Declaramos a variável \"a\" ao valor do \"2\" do tipo int\n",
        "* Ex.: a = 2\n",
        "* Como ler: Declaramos a variável \"b\" ao valor do \"10.953\" do tipo float\n",
        "* Ex.: b = 10.953\n",
        "* Como ler: A variável \"a\" recebe valor 2 do tipo int\n",
        "* Ex.: a = 2\n",
        "* Como ler: A variável \"b\" recebe valor 10.953 do tipo float\n",
        "* Ex.: b = 10.953\n",
        "* É possível usar os dois comandos print e type juntos\n",
        "* Atenção: Número pode ser string\n"
      ],
      "metadata": {
        "id": "vYlI2bjq3est"
      }
    },
    {
      "cell_type": "markdown",
      "source": [
        "**Regras para nomes de variáveis**"
      ],
      "metadata": {
        "id": "gTIUAiHenL_L"
      }
    },
    {
      "cell_type": "markdown",
      "source": [
        "* Deve começar com uma letra (maíuscula ou minúscula) ou subcrito(_).\n",
        "* Nunca podemos começar com um número.\n",
        "* Pode conter letras maiúsculas, minúsculas, números e subscrito.\n",
        "* Não pode-se utilizar como parte do nome de uma variável:\n",
        "{ ( + - * / \\ ; . , ?\n",
        "* Letras maiúsculas e minúsculas são diferentes:\n",
        "casa = 4\n",
        "Casa = 4"
      ],
      "metadata": {
        "id": "CISbqTOVnUdO"
      }
    },
    {
      "cell_type": "markdown",
      "source": [
        "## **Conversão de Variáveis**"
      ],
      "metadata": {
        "id": "sML4WyKK68zD"
      }
    },
    {
      "cell_type": "markdown",
      "source": [
        "### **Conversão de int para float**"
      ],
      "metadata": {
        "id": "qnpEoAE1ntYJ"
      }
    },
    {
      "cell_type": "code",
      "source": [
        "num_int = 10\n",
        "num_float = float(num_int)"
      ],
      "metadata": {
        "id": "QdWmmbtJ3bkC",
        "colab": {
          "base_uri": "https://localhost:8080/"
        },
        "outputId": "e76ef168-704d-4416-a407-2da03a584524"
      },
      "execution_count": 31,
      "outputs": [
        {
          "output_type": "stream",
          "name": "stdout",
          "text": [
            "10.0\n"
          ]
        }
      ]
    },
    {
      "cell_type": "markdown",
      "source": [
        "Checando!"
      ],
      "metadata": {
        "id": "9gsqdXXUnz2E"
      }
    },
    {
      "cell_type": "code",
      "source": [
        "print(type(num_int), type(num_float))\n",
        "print(num_float)"
      ],
      "metadata": {
        "colab": {
          "base_uri": "https://localhost:8080/"
        },
        "id": "ggQAo0A973Ai",
        "outputId": "c9bdef1c-8c44-43de-d2f1-6ef10829a868"
      },
      "execution_count": 32,
      "outputs": [
        {
          "output_type": "stream",
          "name": "stdout",
          "text": [
            "<class 'int'> <class 'float'>\n",
            "10.0\n"
          ]
        }
      ]
    },
    {
      "cell_type": "markdown",
      "source": [
        "### Conversão de int para str"
      ],
      "metadata": {
        "id": "wqQV7_zun3eL"
      }
    },
    {
      "cell_type": "code",
      "source": [
        "num_int = 15\n",
        "num_str = str(num_int)"
      ],
      "metadata": {
        "id": "UadEt0bI8NMy"
      },
      "execution_count": 33,
      "outputs": []
    },
    {
      "cell_type": "markdown",
      "source": [
        "Checando!"
      ],
      "metadata": {
        "id": "2-2Ia1Mvn9Fl"
      }
    },
    {
      "cell_type": "code",
      "source": [
        "print(type(num_int), type(num_str))\n",
        "print(num_str)"
      ],
      "metadata": {
        "colab": {
          "base_uri": "https://localhost:8080/"
        },
        "id": "DsGiL1bD9YfE",
        "outputId": "5b66effc-d8f0-43bd-faf1-0e083001ffb5"
      },
      "execution_count": 34,
      "outputs": [
        {
          "output_type": "stream",
          "name": "stdout",
          "text": [
            "<class 'int'> <class 'str'>\n",
            "15\n"
          ]
        }
      ]
    },
    {
      "cell_type": "markdown",
      "source": [
        "### Conversão de float para int"
      ],
      "metadata": {
        "id": "6XcZYQoMoSln"
      }
    },
    {
      "cell_type": "code",
      "source": [
        "num_float = 10.5\n",
        "num_int = int(num_float)"
      ],
      "metadata": {
        "id": "T6u5y-_w93zB"
      },
      "execution_count": 35,
      "outputs": []
    },
    {
      "cell_type": "markdown",
      "source": [
        "Checando!"
      ],
      "metadata": {
        "id": "XOoSNlIvoVmv"
      }
    },
    {
      "cell_type": "code",
      "source": [
        "print(type(num_float), type(num_int))\n",
        "print(num_int)"
      ],
      "metadata": {
        "colab": {
          "base_uri": "https://localhost:8080/"
        },
        "id": "3E0nIxr7_B_x",
        "outputId": "3a712401-f759-4927-ede2-5602031574ec"
      },
      "execution_count": 36,
      "outputs": [
        {
          "output_type": "stream",
          "name": "stdout",
          "text": [
            "<class 'float'> <class 'int'>\n",
            "10\n"
          ]
        }
      ]
    },
    {
      "cell_type": "markdown",
      "source": [
        "### Conversão de float para str"
      ],
      "metadata": {
        "id": "SZRplNkUoZRo"
      }
    },
    {
      "cell_type": "code",
      "source": [
        "num_float = 10.5\n",
        "num_str = str(num_float)"
      ],
      "metadata": {
        "id": "8vuCjlT6_MPZ"
      },
      "execution_count": 38,
      "outputs": []
    },
    {
      "cell_type": "markdown",
      "source": [
        "Checando!"
      ],
      "metadata": {
        "id": "O5OixR5mocYV"
      }
    },
    {
      "cell_type": "code",
      "source": [
        "print(type(num_float), type(num_str))\n",
        "print(num_str)"
      ],
      "metadata": {
        "colab": {
          "base_uri": "https://localhost:8080/"
        },
        "id": "dSBv8uK_AeT5",
        "outputId": "68d86a08-7226-4a66-89ad-b363397e6ab0"
      },
      "execution_count": 40,
      "outputs": [
        {
          "output_type": "stream",
          "name": "stdout",
          "text": [
            "<class 'float'> <class 'str'>\n",
            "10.5\n"
          ]
        }
      ]
    },
    {
      "cell_type": "markdown",
      "source": [
        "### Conversão de str para int"
      ],
      "metadata": {
        "id": "P7UMHcmCojr9"
      }
    },
    {
      "cell_type": "code",
      "source": [
        "num_str = '15'\n",
        "num_int = int(num_str)"
      ],
      "metadata": {
        "id": "hmTO8cH__wyI"
      },
      "execution_count": 41,
      "outputs": []
    },
    {
      "cell_type": "markdown",
      "source": [
        "Checando!"
      ],
      "metadata": {
        "id": "CI09g0_JooXL"
      }
    },
    {
      "cell_type": "code",
      "source": [
        "print(type(num_str), type(num_int))\n",
        "print(num_int)"
      ],
      "metadata": {
        "colab": {
          "base_uri": "https://localhost:8080/"
        },
        "id": "S_bztXi3A7jH",
        "outputId": "675f81fb-242b-4739-8107-f24b7c246ce1"
      },
      "execution_count": 44,
      "outputs": [
        {
          "output_type": "stream",
          "name": "stdout",
          "text": [
            "<class 'str'> <class 'int'>\n",
            "15\n"
          ]
        }
      ]
    },
    {
      "cell_type": "markdown",
      "source": [
        "### Conversão de str para float"
      ],
      "metadata": {
        "id": "EODGcH5Sosbg"
      }
    },
    {
      "cell_type": "code",
      "source": [
        "num_str = '15'\n",
        "num_float = float(num_str)"
      ],
      "metadata": {
        "id": "ts8WWy7Z_1tQ"
      },
      "execution_count": 47,
      "outputs": []
    },
    {
      "cell_type": "markdown",
      "source": [
        "Checando!"
      ],
      "metadata": {
        "id": "aHwZ92iKowQ0"
      }
    },
    {
      "cell_type": "code",
      "source": [
        "print(type(num_str), type(num_float))\n",
        "print(num_float)"
      ],
      "metadata": {
        "colab": {
          "base_uri": "https://localhost:8080/"
        },
        "id": "9FnPxqAo_4vA",
        "outputId": "f5b57b05-72a5-4083-861d-f0363fc177ad"
      },
      "execution_count": 49,
      "outputs": [
        {
          "output_type": "stream",
          "name": "stdout",
          "text": [
            "<class 'str'> <class 'float'>\n",
            "15.0\n"
          ]
        }
      ]
    },
    {
      "cell_type": "markdown",
      "source": [
        "### **CUIDADO - Conversão str para int**"
      ],
      "metadata": {
        "id": "XQwayb8ApBwN"
      }
    },
    {
      "cell_type": "markdown",
      "source": [
        "Na conversão de uma variável string para uma variável int, primeiro porecisamos converter a variável string em uma variável float para somente depois convertê-la para uma variável int."
      ],
      "metadata": {
        "id": "gt1SSqrIpKQc"
      }
    },
    {
      "cell_type": "code",
      "source": [
        "# Falha no sistema:\n",
        "# Conversão de str para int ()\n",
        "# num_str = '10.5\n",
        "# num_int = int(num_str)\n",
        "\n",
        "# Conversão de str para int ()\n",
        "num_str = '10.5'\n",
        "num_float = float(num_str) # conversão intermediária\n",
        "num_int = int(num_float)\n",
        "\n",
        "# Checando\n",
        "print(type(num_str), type(num_int))\n",
        "print(num_int)"
      ],
      "metadata": {
        "colab": {
          "base_uri": "https://localhost:8080/"
        },
        "id": "ycZ1O64MLWts",
        "outputId": "e112b350-df83-437f-a0bf-f9eb552005bc"
      },
      "execution_count": null,
      "outputs": [
        {
          "output_type": "stream",
          "name": "stdout",
          "text": [
            "<class 'str'> <class 'int'>\n",
            "10\n"
          ]
        }
      ]
    },
    {
      "cell_type": "markdown",
      "source": [
        "## **Operadores Matemáticos**"
      ],
      "metadata": {
        "id": "Dhdvx4kiKqSl"
      }
    },
    {
      "cell_type": "markdown",
      "source": [
        "Os operadores matemáticos básicos, tais como: adição, subtração, multiplicação, divisão, exponenciação e radiação podem ser feitos dentro do python."
      ],
      "metadata": {
        "id": "RJ7Cyd8YQS-B"
      }
    },
    {
      "cell_type": "markdown",
      "source": [
        "### Adição"
      ],
      "metadata": {
        "id": "UvqmEFxqpiYh"
      }
    },
    {
      "cell_type": "code",
      "source": [
        "n1 = 56.8\n",
        "n2 = 75.6\n",
        "soma = n1 + n2"
      ],
      "metadata": {
        "id": "CNPW-BucBivY"
      },
      "execution_count": 50,
      "outputs": []
    },
    {
      "cell_type": "code",
      "source": [
        "# Modos de apresentação\n",
        "\n",
        "print(soma)\n",
        "print('A soma é:', soma)\n",
        "print(f\"A soma é: {soma:.2f}\")\n",
        "print(n1 + n2)\n",
        "n1+n2"
      ],
      "metadata": {
        "colab": {
          "base_uri": "https://localhost:8080/"
        },
        "id": "-RF-wgkYQlg4",
        "outputId": "26c80e49-ca5d-49a1-89ab-3ada56ead820"
      },
      "execution_count": 84,
      "outputs": [
        {
          "output_type": "stream",
          "name": "stdout",
          "text": [
            "132.39999999999998\n",
            "A soma é: 132.39999999999998\n",
            "A soma é: 132.40\n",
            "132.39999999999998\n"
          ]
        },
        {
          "output_type": "execute_result",
          "data": {
            "text/plain": [
              "132.39999999999998"
            ]
          },
          "metadata": {},
          "execution_count": 84
        }
      ]
    },
    {
      "cell_type": "markdown",
      "source": [
        "### Subtração"
      ],
      "metadata": {
        "id": "UIiWMo1apmjd"
      }
    },
    {
      "cell_type": "code",
      "source": [
        "a1 = 96.1\n",
        "a2 = 94.0\n",
        "sub = a1 - a2"
      ],
      "metadata": {
        "id": "COo_VHtJTZC3"
      },
      "execution_count": 52,
      "outputs": []
    },
    {
      "cell_type": "code",
      "source": [
        "# Modos de apresentação\n",
        "\n",
        "print(sub)\n",
        "print('A subatração é:', round(sub,2))\n",
        "print(f\"A subtração dos numéros é {sub:.2f}\")\n",
        "print(a1-a2)\n",
        "a1-a2"
      ],
      "metadata": {
        "colab": {
          "base_uri": "https://localhost:8080/"
        },
        "id": "1LTXEMP-XQ0J",
        "outputId": "1904f93a-2658-449b-9284-78445975e546"
      },
      "execution_count": 63,
      "outputs": [
        {
          "output_type": "stream",
          "name": "stdout",
          "text": [
            "2.0999999999999943\n",
            "A subatração é: 2.1\n",
            "A subtração dos numéros é 2.10\n",
            "2.0999999999999943\n"
          ]
        },
        {
          "output_type": "execute_result",
          "data": {
            "text/plain": [
              "2.0999999999999943"
            ]
          },
          "metadata": {},
          "execution_count": 63
        }
      ]
    },
    {
      "cell_type": "markdown",
      "source": [
        "### Multiplicação"
      ],
      "metadata": {
        "id": "gTeNWjBLq8wU"
      }
    },
    {
      "cell_type": "code",
      "source": [
        "b1 = 3.57\n",
        "multi = b1 * 3"
      ],
      "metadata": {
        "id": "_SRV_OziQobY"
      },
      "execution_count": 62,
      "outputs": []
    },
    {
      "cell_type": "code",
      "source": [
        "# Modos de apresentação\n",
        "\n",
        "print(multi)\n",
        "print('A multiplicação é:', round(multi,2))\n",
        "print(f\"A multiplicação dos numéros é {multi:.2f}\")\n",
        "print(b1*3)\n",
        "b1*3"
      ],
      "metadata": {
        "colab": {
          "base_uri": "https://localhost:8080/"
        },
        "id": "66nB1CEtYw0R",
        "outputId": "af5899fe-4e86-4c5b-f18c-0e2970649ee0"
      },
      "execution_count": 65,
      "outputs": [
        {
          "output_type": "stream",
          "name": "stdout",
          "text": [
            "10.709999999999999\n",
            "A multiplicação é: 10.71\n",
            "A multiplicação dos numéros é 10.71\n",
            "10.709999999999999\n"
          ]
        },
        {
          "output_type": "execute_result",
          "data": {
            "text/plain": [
              "10.709999999999999"
            ]
          },
          "metadata": {},
          "execution_count": 65
        }
      ]
    },
    {
      "cell_type": "markdown",
      "source": [
        "### Divisão"
      ],
      "metadata": {
        "id": "cH79s89vrIcl"
      }
    },
    {
      "cell_type": "code",
      "source": [
        "c1 = 56\n",
        "c2 = 8\n",
        "div = c1 / c2"
      ],
      "metadata": {
        "id": "QhR9zMymZUTL"
      },
      "execution_count": 67,
      "outputs": []
    },
    {
      "cell_type": "code",
      "source": [
        "# Modos de apresentação\n",
        "\n",
        "print(div)\n",
        "print('A divisão é:', div)\n",
        "print('A divisão é:', round(div,2))\n",
        "print(f\"A divisão dos numéros é {div:.2f}\")\n",
        "print(c1/c2)\n",
        "c1/c2"
      ],
      "metadata": {
        "colab": {
          "base_uri": "https://localhost:8080/"
        },
        "id": "7mcG4V_ZZC34",
        "outputId": "f0389627-f698-490a-84b4-ec0606e1e2eb"
      },
      "execution_count": null,
      "outputs": [
        {
          "output_type": "stream",
          "name": "stdout",
          "text": [
            "7.0\n",
            "A divisão é: 7.0\n",
            "A divisão é: 7.0\n",
            "A divisão dos numéros é 7.00\n",
            "7.0\n"
          ]
        },
        {
          "output_type": "execute_result",
          "data": {
            "text/plain": [
              "7.0"
            ]
          },
          "metadata": {},
          "execution_count": 41
        }
      ]
    },
    {
      "cell_type": "markdown",
      "source": [
        "### Parte inteira da divisão (//)"
      ],
      "metadata": {
        "id": "v_wOdp5OrYXC"
      }
    },
    {
      "cell_type": "code",
      "source": [
        "# Exemplo: encontre e guarde a parte inteira da divisão de 3 por 2\n",
        "idiv = 3 // 2\n",
        "print(f'Total: {idiv}')"
      ],
      "metadata": {
        "id": "68JZmUqIaTp5",
        "colab": {
          "base_uri": "https://localhost:8080/"
        },
        "outputId": "25868917-2b6d-431a-e0ee-e1cfa40a3560"
      },
      "execution_count": 76,
      "outputs": [
        {
          "output_type": "stream",
          "name": "stdout",
          "text": [
            "Total: 1\n"
          ]
        }
      ]
    },
    {
      "cell_type": "markdown",
      "source": [
        "### Resto da divisão (%)"
      ],
      "metadata": {
        "id": "_ojcrdT5rhyx"
      }
    },
    {
      "cell_type": "code",
      "source": [
        "# Exemplo: encontre e guarde o resto da divisão de 3 por 2\n",
        "rdiv = 3 % 2\n",
        "print(f'Total: {rdiv}')"
      ],
      "metadata": {
        "colab": {
          "base_uri": "https://localhost:8080/"
        },
        "id": "x2iZhJRXrfvJ",
        "outputId": "14a18286-2650-4c14-887f-56c2dc5e29e3"
      },
      "execution_count": 77,
      "outputs": [
        {
          "output_type": "stream",
          "name": "stdout",
          "text": [
            "Total: 1\n"
          ]
        }
      ]
    },
    {
      "cell_type": "markdown",
      "source": [
        "### Potenciação (**)"
      ],
      "metadata": {
        "id": "6Gu8vlsDrp-L"
      }
    },
    {
      "cell_type": "code",
      "source": [
        "# Exemplo: eleve 3 a 2\n",
        "port = 3 ** 2\n",
        "print(f'Total: {port}')"
      ],
      "metadata": {
        "colab": {
          "base_uri": "https://localhost:8080/"
        },
        "id": "G0P84snurmqD",
        "outputId": "a4a7458f-3cb1-4966-b80b-0fa75c370d7c"
      },
      "execution_count": 78,
      "outputs": [
        {
          "output_type": "stream",
          "name": "stdout",
          "text": [
            "Total: 9\n"
          ]
        }
      ]
    },
    {
      "cell_type": "markdown",
      "source": [
        "## f-string"
      ],
      "metadata": {
        "id": "XoqrEuX2s7oh"
      }
    },
    {
      "cell_type": "markdown",
      "source": [
        "No contexto do Python, o \"f\" em \".2f\" é usado como um indicador de formatação para strings, mais especificamente para formatar números decimais.\n",
        "A letra \"f\" é derivada da palavra \"float\" (que significa \"ponto flutuante\" em inglês), que é o tipo de dado utilizado para representar números decimais em Python."
      ],
      "metadata": {
        "id": "Ip_g84fJtMC4"
      }
    },
    {
      "cell_type": "code",
      "source": [
        "print(f'O resultado da soma de 3 com 2 é: {soma:.2f} ')\n",
        "print(f'O resultado da subtração de 3 com 2 é: {sub:.2f} ')\n",
        "print(f'O resultado da multiplicação de 3 com 2 é: {multi:.2f} ')\n",
        "print(f'O resultado da divisão de 3 com 2 é: {div:.2f} ')\n",
        "print(f'A parte inteira da divisão de 3 por 2 é: {idiv:.2f} ')\n",
        "print(f'O resto da divisão de 3 por 2 é: {rdiv:.2f} ')\n",
        "print(f'O resultado da potenciação de 2 elavado a 2 é: {port:.2f} ')"
      ],
      "metadata": {
        "colab": {
          "base_uri": "https://localhost:8080/"
        },
        "id": "d4SOEYPWpRKY",
        "outputId": "df9c5426-0ecc-4dee-fd95-8cf119570fba"
      },
      "execution_count": 85,
      "outputs": [
        {
          "output_type": "stream",
          "name": "stdout",
          "text": [
            "O resultado da soma de 3 com 2 é: 132.40 \n",
            "O resultado da subtração de 3 com 2 é: 2.10 \n",
            "O resultado da multiplicação de 3 com 2 é: 10.71 \n",
            "O resultado da divisão de 3 com 2 é: 7.00 \n",
            "A parte inteira da divisão de 3 por 2 é: 1.00 \n",
            "O resto da divisão de 3 por 2 é: 1.00 \n",
            "O resultado da potenciação de 2 elavado a 2 é: 9.00 \n"
          ]
        }
      ]
    },
    {
      "cell_type": "markdown",
      "source": [
        "## **Operadores de Comparação (booleanos)**"
      ],
      "metadata": {
        "id": "ct6equ_0uR5R"
      }
    },
    {
      "cell_type": "code",
      "source": [
        "# (==) verifica se dois valores são iguais (retornar True ou False)\n",
        "# Exemplo: Compare se 2 é igual a 3\n",
        "\n",
        "a = 3 # atribuição do valor 3 (tipo int) para a variável a\n",
        "b = 3.0 # atribuição do valor 3.0 (tipo float) para a variável b\n",
        "teste1 = a == b # Fazendo o teste de igualdade de a com b e guardando na variável teste 1\n",
        "print(teste1) # Imprimindo o valor da variável teste1\n",
        "\n",
        "teste2 = 'douglas' == 'Douglas' # Comparando duas strings com uma pequena diferença entre elas\n",
        "teste3 = 'douglas' == 'douglas'\n",
        "print(teste2) # Imprimindo o valor da variável teste2\n",
        "print(teste3)\n",
        "\n",
        "# (!=) verifica se dois valores são diferentes (retorna True ou False)\n",
        "# Exemplo: compare se 3 é diferente a 3.0\n",
        "teste4 = a != b\n",
        "print(f'Diferenciação: {teste4} ')\n",
        "\n",
        "# (>) Verifica se um valor é maior que o outro (retorna True ou False)\n",
        "# Exemplo: compare se 3 é maior que 2\n",
        "teste5 = 3 > 2\n",
        "print(f'Comparação de maior que: {teste5}' )\n",
        "\n",
        "# (>=) Verifica se um valor é maior ou igual ao outro (Retornoa True ou False)\n",
        "# Exemplo: compare de 3 é maior ou igual a 3\n",
        "teste6 = 3 >= 3\n",
        "print(f'Comparação de maior ou igual que: {teste6} ')\n",
        "\n",
        "# (<) Verifica se um valor é menor que o outro (retorna True ou False)\n",
        "# Exemplo: compare se 3 é menor que 2\n",
        "teste7 = 3 < 2\n",
        "print(f'Comparação de menor que: {teste7}' )\n",
        "\n",
        "# (<=) Verifica se um valor é menor ou igual ao outro (Retornoa True ou False)\n",
        "# Exemplo: compare de 3 é menor ou igual a 3\n",
        "teste8 = 3 <= 2\n",
        "print(f'Comparação de menor ou igual que: {teste8} ')"
      ],
      "metadata": {
        "colab": {
          "base_uri": "https://localhost:8080/"
        },
        "id": "XWYUXJS7uXjq",
        "outputId": "0035cf24-997e-4263-d177-90c0dde7d865"
      },
      "execution_count": null,
      "outputs": [
        {
          "output_type": "stream",
          "name": "stdout",
          "text": [
            "True\n",
            "False\n",
            "True\n",
            "Diferenciação: False \n",
            "Comparação de maior que: True\n",
            "Comparação de maior ou igual que: True \n",
            "Comparação de menor que: False\n",
            "Comparação de menor ou igual que: False \n"
          ]
        }
      ]
    },
    {
      "cell_type": "markdown",
      "source": [
        "## **Operadores de atribuição**"
      ],
      "metadata": {
        "id": "zzi3u09E7oca"
      }
    },
    {
      "cell_type": "code",
      "source": [
        "# Atribuição direta (=) atribui ao lado esquerdo do sinal um valor que está ao lado dierito do nisal\n",
        "nome = 'douglas'\n",
        "peso_kg = 84\n",
        "altura_m = 1.82"
      ],
      "metadata": {
        "id": "92ngJquz6bxY"
      },
      "execution_count": null,
      "outputs": []
    },
    {
      "cell_type": "code",
      "source": [
        "# Atribuição de incremento (+=), equivale a x = x + y (equivale a uma variável x que já existe recebendo ela mesma + outro valor)\n",
        "# Exemplo: crie uma variável t que receba o número inteiro 3 e depois acrescente o valor 1 para essa variável\n",
        "t = 3\n",
        "t += 1\n",
        "print(t)"
      ],
      "metadata": {
        "colab": {
          "base_uri": "https://localhost:8080/"
        },
        "id": "EEbfEeiB8agZ",
        "outputId": "91170d1a-8347-4b1e-f463-20623cb51431"
      },
      "execution_count": null,
      "outputs": [
        {
          "output_type": "stream",
          "name": "stdout",
          "text": [
            "4\n"
          ]
        }
      ]
    },
    {
      "cell_type": "code",
      "source": [
        "# Atribuição de decremento (-=), equivale a x = x - y (equivale a uma variável x que já existe recebendo ela mesma - outro valor)\n",
        "# Exemplo: crie uma variável z que receba o número inteiro 5 e depois diminua o valor 2 para essa variável\n",
        "z = 5\n",
        "z -= 2\n",
        "print(f'O resultado de z - 2 é: {z} ')"
      ],
      "metadata": {
        "colab": {
          "base_uri": "https://localhost:8080/"
        },
        "id": "C5ZXHW7T84Ry",
        "outputId": "dd3c434c-a52a-4b55-d0bb-714889017765"
      },
      "execution_count": null,
      "outputs": [
        {
          "output_type": "stream",
          "name": "stdout",
          "text": [
            "O resultado de z - 2 é: 3 \n"
          ]
        }
      ]
    },
    {
      "cell_type": "code",
      "source": [
        "# Atribuição de multiplicação (*=), equivale a x = x * y (equivale a uma variável x que já existe recebendo ela mesma * outro valor)\n",
        "# Exemplo: crie uma variável j que receba o número inteiro 5 e depois multiplique o valor 2 para essa variável\n",
        "j = 5\n",
        "t *= 2\n",
        "print(f'O resultado de j * 2 é: {j} ')"
      ],
      "metadata": {
        "colab": {
          "base_uri": "https://localhost:8080/"
        },
        "id": "VOKpOGXP-vG4",
        "outputId": "d45c8a06-312b-40cd-dad3-720edc79e134"
      },
      "execution_count": null,
      "outputs": [
        {
          "output_type": "stream",
          "name": "stdout",
          "text": [
            "O resultado de j * 2 é: 5 \n"
          ]
        }
      ]
    },
    {
      "cell_type": "code",
      "source": [
        "# Atribuição de devisão (/=), equivale a x = x / y (equivale a uma variável x que já existe recebendo ela mesma / outro valor)\n",
        "# Exemplo: crie uma variável w que receba o número inteiro 7 e depois divida o valor 2 para essa variável\n",
        "w = 7\n",
        "w *= 2\n",
        "print(f'O resultado de w / 2 é: {w} ')"
      ],
      "metadata": {
        "colab": {
          "base_uri": "https://localhost:8080/"
        },
        "id": "o8H4OvGXEblC",
        "outputId": "e8cec6cb-d498-4bcc-b858-8c7c014fe9b7"
      },
      "execution_count": null,
      "outputs": [
        {
          "output_type": "stream",
          "name": "stdout",
          "text": [
            "O resultado de w / 2 é: 14 \n"
          ]
        }
      ]
    },
    {
      "cell_type": "code",
      "source": [
        "# Atribuição da parte inteira da divisão (//=) equvale a x = x // y\n",
        "# Exemplo: crie uma variável k que recebe o número 7 e depois receba a parte inteira da divisão por 2\n",
        "k = 7\n",
        "k //= 2\n",
        "print(f'O resultado de k // 2 é: {k} ')"
      ],
      "metadata": {
        "colab": {
          "base_uri": "https://localhost:8080/"
        },
        "id": "7tOz3Wv0FLWn",
        "outputId": "e4f2987c-b080-4110-c0ae-4816a6d93c31"
      },
      "execution_count": null,
      "outputs": [
        {
          "output_type": "stream",
          "name": "stdout",
          "text": [
            "O resultado de k // 2 é: 3 \n"
          ]
        }
      ]
    },
    {
      "cell_type": "code",
      "source": [
        "# Atribuição do resto da divisão (%=) equvale a x = x % y\n",
        "# Exemplo: crie uma variável bque recebe o número 7 e depois receba o resto da divisão por 2\n",
        "b = 7\n",
        "b %= 2\n",
        "print(f'O resultado de k %= 2 é: {b} ')"
      ],
      "metadata": {
        "colab": {
          "base_uri": "https://localhost:8080/"
        },
        "id": "y_VdLT1CGKhQ",
        "outputId": "c2c03496-dc17-4487-98e7-fbd189c3d272"
      },
      "execution_count": null,
      "outputs": [
        {
          "output_type": "stream",
          "name": "stdout",
          "text": [
            "O resultado de k %= 2 é: 1 \n"
          ]
        }
      ]
    },
    {
      "cell_type": "code",
      "source": [
        "# Atribuição da potenciação (**=) equvale a x = x ** y\n",
        "# Exemplo: crie uma variável casamento que recebe o número 6 e depois receba o quadrado dela\n",
        "casamento = 6\n",
        "casamento **= 2\n",
        "print(f'O resultado de casamento ** 2 é: {casamento} ')"
      ],
      "metadata": {
        "colab": {
          "base_uri": "https://localhost:8080/"
        },
        "id": "-VZwZMRrH7oX",
        "outputId": "38638a90-84bc-4441-8966-16db97dc7eee"
      },
      "execution_count": null,
      "outputs": [
        {
          "output_type": "stream",
          "name": "stdout",
          "text": [
            "O resultado de casamento ** 2 é: 36 \n"
          ]
        }
      ]
    },
    {
      "cell_type": "markdown",
      "source": [
        "### **Operadores lógicos**"
      ],
      "metadata": {
        "id": "BzZd0zcXdipQ"
      }
    },
    {
      "cell_type": "code",
      "source": [
        "# (and) Retorna verdadeiro somente se todas as condições de uma comparação forem satisfeitas.\n",
        "# Exemplo:\n",
        "teste9 = 3 >= 2 and 3 != 2 and 3 < 4\n",
        "print(teste9)\n",
        "\n",
        "# (&) Retorna verdadeiro somente se todas as condições de uma comparação forem satisfeitas\n",
        "# Exemplo:\n",
        "teste10 = (3 >= 2) & (3 != 2) & (3 < 4)\n",
        "print(teste10)"
      ],
      "metadata": {
        "colab": {
          "base_uri": "https://localhost:8080/"
        },
        "id": "QhkO99i-IQvM",
        "outputId": "bc918513-c394-4ddc-9147-82c68331c906"
      },
      "execution_count": null,
      "outputs": [
        {
          "output_type": "stream",
          "name": "stdout",
          "text": [
            "True\n",
            "True\n"
          ]
        }
      ]
    },
    {
      "cell_type": "code",
      "source": [
        "# (or) Retorna verdadeiro se pelo menos um dos elementos for verdadeiro\n",
        "# Exemplo:\n",
        "teste11 = 3 >= 2 or 3 == 2 or 3 > 4\n",
        "print(teste11)"
      ],
      "metadata": {
        "colab": {
          "base_uri": "https://localhost:8080/"
        },
        "id": "SGrthAApeKvE",
        "outputId": "285d95ba-3a47-4c6e-ff70-f64c785ccf28"
      },
      "execution_count": null,
      "outputs": [
        {
          "output_type": "stream",
          "name": "stdout",
          "text": [
            "True\n"
          ]
        }
      ]
    },
    {
      "cell_type": "code",
      "source": [
        "# (not) Inverte verdadeiro com falso\n",
        "# Exemplo:\n",
        "teste12 = not(teste11)\n",
        "print(teste12)\n",
        "teste13 = not(teste10)\n",
        "print(teste13)"
      ],
      "metadata": {
        "colab": {
          "base_uri": "https://localhost:8080/"
        },
        "id": "YBKZEqeugrv-",
        "outputId": "54699d60-7503-4f2a-8b19-69ee740a8761"
      },
      "execution_count": null,
      "outputs": [
        {
          "output_type": "stream",
          "name": "stdout",
          "text": [
            "False\n",
            "False\n"
          ]
        }
      ]
    },
    {
      "cell_type": "code",
      "source": [
        "# (is) Compara se um objeto é igual ao outro em relação ao outro valor e tipo\n",
        "h = 3\n",
        "p = 3\n",
        "teste14 = p == h\n",
        "print(f'p == h é: {teste14} ')\n",
        "teste17 = p is h\n",
        "print(f'p is h é: {teste17} ')\n",
        "\n",
        "m = 3\n",
        "n = 3.0\n",
        "teste18 = m == n\n",
        "print(f'm == n é: {teste18} ')\n",
        "teste19 = m is n\n",
        "print(f'm is n é: {teste19} ')\n",
        "print(type(m))\n",
        "print(type(n))"
      ],
      "metadata": {
        "colab": {
          "base_uri": "https://localhost:8080/"
        },
        "id": "iAl8D6bNg3hk",
        "outputId": "50b93f11-c94b-4902-cbed-f78a4d680d65"
      },
      "execution_count": null,
      "outputs": [
        {
          "output_type": "stream",
          "name": "stdout",
          "text": [
            "p == h é: True \n",
            "p is h é: True \n",
            "m == n é: True \n",
            "m is n é: False \n",
            "<class 'int'>\n",
            "<class 'float'>\n"
          ]
        }
      ]
    },
    {
      "cell_type": "code",
      "source": [
        "# (is not) Compara se um objeto é diferente do outro em relação ao outro valor e tipo\n",
        "x = 3\n",
        "y = 4\n",
        "teste20 = x != y\n",
        "print(f'x != y é: {teste20} ')\n",
        "teste21 = x is not y\n",
        "print(f'p is not h é: {teste21} ')\n",
        "print(type(x))\n",
        "print(type(y))\n",
        "\n",
        "o = 3\n",
        "s = 3.0\n",
        "teste22 = o != s\n",
        "print(f'o != s é: {teste22} ')\n",
        "teste23 = o is not s\n",
        "print(f'o is not s é: {teste23} ')\n",
        "print(type(o))\n",
        "print(type(s))"
      ],
      "metadata": {
        "colab": {
          "base_uri": "https://localhost:8080/"
        },
        "id": "omsPPHCFt5dU",
        "outputId": "284cb86b-f554-4c04-aef0-0fd76c8102fc"
      },
      "execution_count": null,
      "outputs": [
        {
          "output_type": "stream",
          "name": "stdout",
          "text": [
            "x != y é: True \n",
            "p is not h é: True \n",
            "<class 'int'>\n",
            "<class 'int'>\n",
            "o != s é: False \n",
            "o is not s é: True \n",
            "<class 'int'>\n",
            "<class 'float'>\n"
          ]
        }
      ]
    },
    {
      "cell_type": "markdown",
      "source": [
        "### **Operadores de Associação**"
      ],
      "metadata": {
        "id": "1mwgpEmpxIvf"
      }
    },
    {
      "cell_type": "code",
      "source": [
        "# (in) Retorna verdadeiro se um caracter ou sequência de caracteries foram encontrados dentro de uma string\n",
        "# Exemplo:\n",
        "\n",
        "nome = 'daniela'\n",
        "teste24 = 'Dani' in nome\n",
        "print(f'daniela contém dani: {teste24} ')"
      ],
      "metadata": {
        "colab": {
          "base_uri": "https://localhost:8080/"
        },
        "id": "y5yrvFh_v5Jd",
        "outputId": "a4e7d916-58a1-4396-da54-c967d8bc9e65"
      },
      "execution_count": null,
      "outputs": [
        {
          "output_type": "stream",
          "name": "stdout",
          "text": [
            "daniela contém dani: False \n"
          ]
        }
      ]
    },
    {
      "cell_type": "code",
      "source": [
        "# (not in) Retorna verdedeiro se um caracter ou sequência de caracteries NÃO for encontrado dentro de uma string\n",
        "# Exemplo:\n",
        "\n",
        "nome = 'daniela'\n",
        "teste25 = 'Dani' not in nome\n",
        "print(f'daniela contém Dani: {teste25} ')"
      ],
      "metadata": {
        "colab": {
          "base_uri": "https://localhost:8080/"
        },
        "id": "-DtPCqDCx120",
        "outputId": "eec357ab-0cb5-49d6-9f01-dcd1bd98b8c5"
      },
      "execution_count": null,
      "outputs": [
        {
          "output_type": "stream",
          "name": "stdout",
          "text": [
            "daniela contém Dani: True \n"
          ]
        }
      ]
    },
    {
      "cell_type": "markdown",
      "source": [
        "### **Coletando informações do usuário**"
      ],
      "metadata": {
        "id": "SFBNgShk0QYY"
      }
    },
    {
      "cell_type": "code",
      "source": [
        "nome = (input('Informe seu nome: '))\n",
        "print(f'Seu nome é: {nome} ')\n",
        "peso = int(input('Informe seu peso: '))\n",
        "print(f'{nome}, seu peso atual é de: {peso} kg')\n",
        "altura = float(input('Informe sua altura: '))\n",
        "print(f'{nome}, você pesa {peso}kg e mede {altura}m')\n",
        "imc = peso / (altura)**2\n",
        "print(f'{nome}, sue IMC é: {imc:.2f} ')"
      ],
      "metadata": {
        "colab": {
          "base_uri": "https://localhost:8080/",
          "height": 408
        },
        "id": "7bRG2fR40UIK",
        "outputId": "8f3ac63d-2411-45c8-c930-ebdb6e08f934"
      },
      "execution_count": null,
      "outputs": [
        {
          "output_type": "error",
          "ename": "KeyboardInterrupt",
          "evalue": "ignored",
          "traceback": [
            "\u001b[0;31m---------------------------------------------------------------------------\u001b[0m",
            "\u001b[0;31mKeyboardInterrupt\u001b[0m                         Traceback (most recent call last)",
            "\u001b[0;32m<ipython-input-60-44c73870a082>\u001b[0m in \u001b[0;36m<cell line: 1>\u001b[0;34m()\u001b[0m\n\u001b[0;32m----> 1\u001b[0;31m \u001b[0mnome\u001b[0m \u001b[0;34m=\u001b[0m \u001b[0;34m(\u001b[0m\u001b[0minput\u001b[0m\u001b[0;34m(\u001b[0m\u001b[0;34m'Informe seu nome: '\u001b[0m\u001b[0;34m)\u001b[0m\u001b[0;34m)\u001b[0m\u001b[0;34m\u001b[0m\u001b[0;34m\u001b[0m\u001b[0m\n\u001b[0m\u001b[1;32m      2\u001b[0m \u001b[0mprint\u001b[0m\u001b[0;34m(\u001b[0m\u001b[0;34mf'Seu nome é: {nome} '\u001b[0m\u001b[0;34m)\u001b[0m\u001b[0;34m\u001b[0m\u001b[0;34m\u001b[0m\u001b[0m\n\u001b[1;32m      3\u001b[0m \u001b[0mpeso\u001b[0m \u001b[0;34m=\u001b[0m \u001b[0mint\u001b[0m\u001b[0;34m(\u001b[0m\u001b[0minput\u001b[0m\u001b[0;34m(\u001b[0m\u001b[0;34m'Informe seu peso: '\u001b[0m\u001b[0;34m)\u001b[0m\u001b[0;34m)\u001b[0m\u001b[0;34m\u001b[0m\u001b[0;34m\u001b[0m\u001b[0m\n\u001b[1;32m      4\u001b[0m \u001b[0mprint\u001b[0m\u001b[0;34m(\u001b[0m\u001b[0;34mf'{nome}, seu peso atual é de: {peso} kg'\u001b[0m\u001b[0;34m)\u001b[0m\u001b[0;34m\u001b[0m\u001b[0;34m\u001b[0m\u001b[0m\n\u001b[1;32m      5\u001b[0m \u001b[0maltura\u001b[0m \u001b[0;34m=\u001b[0m \u001b[0mfloat\u001b[0m\u001b[0;34m(\u001b[0m\u001b[0minput\u001b[0m\u001b[0;34m(\u001b[0m\u001b[0;34m'Informe sua altura: '\u001b[0m\u001b[0;34m)\u001b[0m\u001b[0;34m)\u001b[0m\u001b[0;34m\u001b[0m\u001b[0;34m\u001b[0m\u001b[0m\n",
            "\u001b[0;32m/usr/local/lib/python3.10/dist-packages/ipykernel/kernelbase.py\u001b[0m in \u001b[0;36mraw_input\u001b[0;34m(self, prompt)\u001b[0m\n\u001b[1;32m    849\u001b[0m                 \u001b[0;34m\"raw_input was called, but this frontend does not support input requests.\"\u001b[0m\u001b[0;34m\u001b[0m\u001b[0;34m\u001b[0m\u001b[0m\n\u001b[1;32m    850\u001b[0m             )\n\u001b[0;32m--> 851\u001b[0;31m         return self._input_request(str(prompt),\n\u001b[0m\u001b[1;32m    852\u001b[0m             \u001b[0mself\u001b[0m\u001b[0;34m.\u001b[0m\u001b[0m_parent_ident\u001b[0m\u001b[0;34m,\u001b[0m\u001b[0;34m\u001b[0m\u001b[0;34m\u001b[0m\u001b[0m\n\u001b[1;32m    853\u001b[0m             \u001b[0mself\u001b[0m\u001b[0;34m.\u001b[0m\u001b[0m_parent_header\u001b[0m\u001b[0;34m,\u001b[0m\u001b[0;34m\u001b[0m\u001b[0;34m\u001b[0m\u001b[0m\n",
            "\u001b[0;32m/usr/local/lib/python3.10/dist-packages/ipykernel/kernelbase.py\u001b[0m in \u001b[0;36m_input_request\u001b[0;34m(self, prompt, ident, parent, password)\u001b[0m\n\u001b[1;32m    893\u001b[0m             \u001b[0;32mexcept\u001b[0m \u001b[0mKeyboardInterrupt\u001b[0m\u001b[0;34m:\u001b[0m\u001b[0;34m\u001b[0m\u001b[0;34m\u001b[0m\u001b[0m\n\u001b[1;32m    894\u001b[0m                 \u001b[0;31m# re-raise KeyboardInterrupt, to truncate traceback\u001b[0m\u001b[0;34m\u001b[0m\u001b[0;34m\u001b[0m\u001b[0m\n\u001b[0;32m--> 895\u001b[0;31m                 \u001b[0;32mraise\u001b[0m \u001b[0mKeyboardInterrupt\u001b[0m\u001b[0;34m(\u001b[0m\u001b[0;34m\"Interrupted by user\"\u001b[0m\u001b[0;34m)\u001b[0m \u001b[0;32mfrom\u001b[0m \u001b[0;32mNone\u001b[0m\u001b[0;34m\u001b[0m\u001b[0;34m\u001b[0m\u001b[0m\n\u001b[0m\u001b[1;32m    896\u001b[0m             \u001b[0;32mexcept\u001b[0m \u001b[0mException\u001b[0m \u001b[0;32mas\u001b[0m \u001b[0me\u001b[0m\u001b[0;34m:\u001b[0m\u001b[0;34m\u001b[0m\u001b[0;34m\u001b[0m\u001b[0m\n\u001b[1;32m    897\u001b[0m                 \u001b[0mself\u001b[0m\u001b[0;34m.\u001b[0m\u001b[0mlog\u001b[0m\u001b[0;34m.\u001b[0m\u001b[0mwarning\u001b[0m\u001b[0;34m(\u001b[0m\u001b[0;34m\"Invalid Message:\"\u001b[0m\u001b[0;34m,\u001b[0m \u001b[0mexc_info\u001b[0m\u001b[0;34m=\u001b[0m\u001b[0;32mTrue\u001b[0m\u001b[0;34m)\u001b[0m\u001b[0;34m\u001b[0m\u001b[0;34m\u001b[0m\u001b[0m\n",
            "\u001b[0;31mKeyboardInterrupt\u001b[0m: Interrupted by user"
          ]
        }
      ]
    },
    {
      "cell_type": "markdown",
      "source": [
        "### **Python Básico - Strings**"
      ],
      "metadata": {
        "id": "gB2OLazt8069"
      }
    },
    {
      "cell_type": "code",
      "source": [
        "# inclusive : exclusive (lógica de fateamento)\n",
        "#\n",
        "\n",
        "# 0 1 2 3 4 5 6 7 8 9 10 11 12 13 (índice)\n",
        "# -14 -13 -12 -11 -10 -9 -8 -7 -6 -5 -4 -3 -2 -1 (índice reverso)\n",
        "# 1 2 3 4 5 6 7 8 9 10 11 12 13 (ordinal)\n",
        "# o l e m f a @ o u t l o o k . c o m\n",
        "\n",
        "email = 'olemfa@outlook.com'\n",
        "\n",
        "# Encontrando um caracter pelo índice\n",
        "\n",
        "# Exemplo: qual o quinto caracter dessa string?\n",
        "print(f'O quinto caracter deste email é o: {email[4]} ')\n",
        "\n",
        "# Exemplo: qual é o último caracter dessa string?\n",
        "print(f'O último caracter deste email é o: {email[13]} ')\n",
        "\n",
        "# Exemplo: Quais são os caracteres que vem depois do segundo? Exluindo o segundo.\n",
        "print(f'Após o segundo caracter, estes são os demais: {email[2:]} ')\n",
        "\n",
        "# Exemplo: Quais são todos os caracteres dessa string?\n",
        "print(f'A sequência todos os caracteres desta string é: {email[:]} ')\n",
        "\n",
        "# Exemplo: buscar e imprimir todos os caracteres até o caracter de índice 4 (todos os caracteres antes do @ até o @ incluindo o @)\n",
        "print(f'A sequência caracteres desta string até o índice 4 é: {email[:1]}')\n",
        "\n",
        "# Exemplo como acessar o último caracter da lista sem contar o tamanho dela (sem usar a função len())?\n",
        "print(f'O último caracter dessa string é: {email[-1]}')"
      ],
      "metadata": {
        "id": "BL2pJy3p89fr"
      },
      "execution_count": null,
      "outputs": []
    },
    {
      "cell_type": "markdown",
      "source": [
        "Métodos para Strings"
      ],
      "metadata": {
        "id": "oe63A8VtJsoC"
      }
    },
    {
      "cell_type": "code",
      "source": [
        "# Sinal de (+) para concatenar strings\n",
        "\n",
        "nome = 'Anderson'\n",
        "sobre = 'Melo'\n",
        "print(nome +\" \" + sobre)\n",
        "\n",
        "# Converter em número em string\n",
        "\n",
        "cpf = 5417410470\n",
        "cpf = str(cpf)\n",
        "print(type(cpf))\n",
        "\n",
        "# (in) Retorna verdadeiro se um caracter ou sequencia de caracteres for encontrado dentro de uma string\n",
        "# Exemplo:\n",
        "nomen = 'daniela'\n",
        "testen = 'dani' in nomen\n",
        "print(f'daniela contém dani: {testen}')\n",
        "# (not in) Retorna verdadeiro se um caracter ou sequencia de caracteres NÃO for encontrado dentro de uma string\n",
        "testen = 'Dani' not in nomen\n",
        "print(f'daniela não contém Dani: {testen}')\n",
        "# (len)Contar o número de caracteres de uma string\n",
        "qtde = len(nome)\n",
        "print(f'{nome} tem {qtde} caracteres')"
      ],
      "metadata": {
        "id": "7YTIaG2fJu62"
      },
      "execution_count": null,
      "outputs": []
    },
    {
      "cell_type": "markdown",
      "source": [
        "Métodos específicos para strings"
      ],
      "metadata": {
        "id": "HStEHYD_NEmD"
      }
    },
    {
      "cell_type": "code",
      "source": [
        "# Método para deixar a primeira letra de uma string maiúscula\n",
        "\n",
        "nomem = 'anderson'\n",
        "nomem = nomem.capitalize()\n",
        "print(nomem)\n",
        "nomem = nomem.casefold()\n",
        "print(nomem)"
      ],
      "metadata": {
        "id": "G5Sw_iWhKCEK"
      },
      "execution_count": null,
      "outputs": []
    },
    {
      "cell_type": "code",
      "source": [
        "# (count) Contar quantas vezes um caracter aparece em uma string\n",
        "\n",
        "material = 'paralelepípado'\n",
        "qtde_p = material.count('p')\n",
        "print(f'{material} tem {qtde_p} Ps')"
      ],
      "metadata": {
        "id": "YOjjzQeRNYfH"
      },
      "execution_count": null,
      "outputs": []
    },
    {
      "cell_type": "code",
      "source": [
        "# (endswith) Verifica se uma string termina com um caracter ou sequência de caracteres\n",
        "\n",
        "email = 'olemfa@outlook.com'\n",
        "teste_end = email.endswith('outlook.com')\n",
        "print(teste_end)"
      ],
      "metadata": {
        "id": "HtZOGjghRsJ3"
      },
      "execution_count": null,
      "outputs": []
    },
    {
      "cell_type": "code",
      "source": [
        "# (startswith) Verifica se uma string começa com um caracter ou sequencia de caracteres\n",
        "\n",
        "email = 'olemfa@outlook.com'\n",
        "teste_beg = email.startswith('d')\n",
        "print(teste_beg)"
      ],
      "metadata": {
        "id": "8yPg7ZlPTwDX"
      },
      "execution_count": null,
      "outputs": []
    },
    {
      "cell_type": "code",
      "source": [
        "# (isnumeric) Verifica se um string é formado por números\n",
        "\n",
        "rg = '2001001231248'\n",
        "teste_rg = rg.isnumeric()\n",
        "print(teste_rg)"
      ],
      "metadata": {
        "id": "AnFbhKyZVkrw"
      },
      "execution_count": null,
      "outputs": []
    },
    {
      "cell_type": "code",
      "source": [
        "# (isalpha) Verifica se um string é formada por letras\n",
        "\n",
        "rg2 = '1002001231248'\n",
        "teste_rg2 = rg2.isalpha()\n",
        "print(teste_rg2)"
      ],
      "metadata": {
        "id": "GEzq_cPtVyDH"
      },
      "execution_count": null,
      "outputs": []
    },
    {
      "cell_type": "code",
      "source": [
        "# (isalnum) Verifica se uma string é formada por letras e números\n",
        "\n",
        "rg3 = 'D'\n",
        "teste_rg3 = rg3.isalnum()\n",
        "print(teste_rg3)"
      ],
      "metadata": {
        "id": "3zd6udgcV_rH"
      },
      "execution_count": null,
      "outputs": []
    },
    {
      "cell_type": "code",
      "source": [
        "# (split) Separa uma string por caracteres específicos, se não for específicado o caracter ela assume espaço como separador\n",
        "\n",
        "dados = input('Informe os valores separados por espaços ')\n",
        "dados_sep = dados.split()\n",
        "print(dados_sep)"
      ],
      "metadata": {
        "id": "AMhlhy6pWtM-"
      },
      "execution_count": null,
      "outputs": []
    },
    {
      "cell_type": "code",
      "source": [
        "# (strip) Elimina caracteres indesejados de uma string. Por padrão, remove espaços do início e do final da string\n",
        "\n",
        "autor = ' Douglas '\n",
        "print(len(autor))\n",
        "autor = autor.strip()\n",
        "print(len(autor))"
      ],
      "metadata": {
        "id": "nJ_r7lTkXbwn"
      },
      "execution_count": null,
      "outputs": []
    },
    {
      "cell_type": "code",
      "source": [
        "# (replace) Substitui um caracter por outro\n",
        "\n",
        "preco = 'R$ 11.29'\n",
        "print(preco)\n",
        "preco = preco.replace('.',',')\n",
        "print(preco)"
      ],
      "metadata": {
        "id": "p3VbU2MXZJyv"
      },
      "execution_count": null,
      "outputs": []
    },
    {
      "cell_type": "code",
      "source": [
        "# (title) Coloca a primeira letra de cada palavra em maiúscula\n",
        "\n",
        "comp = 'anderson figueirêdo melo'\n",
        "print(comp)\n",
        "comp = comp.title()\n",
        "print(comp)"
      ],
      "metadata": {
        "id": "QwULoe6GZ61u"
      },
      "execution_count": null,
      "outputs": []
    },
    {
      "cell_type": "code",
      "source": [
        "# (upper) Coloca todas as letras de um texto em maiúsculas\n",
        "\n",
        "prof = 'anderson'\n",
        "print(prof)\n",
        "prof = prof.upper()\n",
        "print(prof)"
      ],
      "metadata": {
        "id": "aEX4PNnoatdu"
      },
      "execution_count": null,
      "outputs": []
    },
    {
      "cell_type": "code",
      "source": [],
      "metadata": {
        "id": "s315dYHgbP4_"
      },
      "execution_count": null,
      "outputs": []
    },
    {
      "cell_type": "markdown",
      "source": [
        "## **Estrutura de Condição - If, Elif, Else**"
      ],
      "metadata": {
        "id": "CH-F9O1lDtJE"
      }
    },
    {
      "cell_type": "markdown",
      "source": [
        "### Instrução \"if\":\n",
        "\n",
        "* A instrução \"if\" é usada para executar um bloco de código se uma determinada condição for verdadeira. A sintaxe geral é a seguinte:\n"
      ],
      "metadata": {
        "id": "yszEbR5bD0nC"
      }
    },
    {
      "cell_type": "code",
      "source": [
        "'''\n",
        "If condição:\n",
        "      # bloco de código a ser executado se a condição for verdadeira\n",
        "'''"
      ],
      "metadata": {
        "id": "iNbM1hf5D0DI"
      },
      "execution_count": null,
      "outputs": []
    },
    {
      "cell_type": "code",
      "source": [
        "idade = 19\n",
        "if idade >= 18:                           # : - Faça alguma coisa\n",
        "      print(\"Você é maior de idade.\")"
      ],
      "metadata": {
        "id": "nXtDKGIuEYDm"
      },
      "execution_count": null,
      "outputs": []
    },
    {
      "cell_type": "code",
      "source": [
        "idade = 18\n",
        "if idade >= 18:\n",
        "    print(\"Você é maior de idade.\")"
      ],
      "metadata": {
        "id": "74bGubIKEpbf"
      },
      "execution_count": null,
      "outputs": []
    },
    {
      "cell_type": "code",
      "source": [
        "idade = 17\n",
        "if idade >= 18:\n",
        "    print(\"Vocêr é maior de idade.\")"
      ],
      "metadata": {
        "id": "suxUMT9kExZ3"
      },
      "execution_count": null,
      "outputs": []
    },
    {
      "cell_type": "markdown",
      "source": [
        "### Instrução \"else\"\n",
        "\n",
        "* A instrução \"else\" é usada em conjunto com a instrução \"if\" e especifica um bloco de código a ser executado se a condição do \"if\" não for verdadeira. A sintaxe geral é a seguinte"
      ],
      "metadata": {
        "id": "QLdnPaPsE6ut"
      }
    },
    {
      "cell_type": "code",
      "source": [
        "'''\n",
        "if condição:\n",
        "      # bloco de código a ser executado se a condição for verdadeira\n",
        "else:\n",
        "      # bloco de código a ser executado se a condição não for verdadeira\n",
        "'''"
      ],
      "metadata": {
        "id": "40XrOpmFE4f_"
      },
      "execution_count": null,
      "outputs": []
    },
    {
      "cell_type": "code",
      "source": [
        "idade - int(input('Digite sua idade:'))\n",
        "\n",
        "if idade >= 18:\n",
        "    print(\"Você é maior de idade.\")\n",
        "else:\n",
        "    print(\"Você é maior de idade.\")"
      ],
      "metadata": {
        "id": "cyTWEx-JITRM"
      },
      "execution_count": null,
      "outputs": []
    },
    {
      "cell_type": "markdown",
      "source": [
        "### Instrução \"elif\"\n",
        "\n",
        "* A instrução \"elif\" é uma abreviação de \"else if\" e permite testar múltiplas condições em sequência. Ela é usada quando há mais de duas possibilidades a serem consideradas. A sintaxe feral é a seguinte:"
      ],
      "metadata": {
        "id": "Wtn_91jYI3Z0"
      }
    },
    {
      "cell_type": "code",
      "source": [
        "'''\n",
        "if condição_1:\n",
        "    # condição de código a ser executada se a condição 1 for verdadeira\n",
        "elif condição_2:\n",
        "    # bloco de código a ser executado se a condição_2 for verdadeira\n",
        "else:\n",
        "    # bloco de código a ser executado se nenhuma das condições anteriores for verdadeira\n",
        "'''"
      ],
      "metadata": {
        "id": "xavxQI79I1E2"
      },
      "execution_count": null,
      "outputs": []
    },
    {
      "cell_type": "code",
      "source": [
        "nota = int(input('Digite sua nota:'))\n",
        "\n",
        "if nota >= 90:\n",
        "    print(\"Sua nota é A.\")\n",
        "\n",
        "elif nota >= 80:\n",
        "    print(\"sua nota é B.\")\n",
        "\n",
        "elif nota >= 70:\n",
        "    print(\"sua nota é C.\")\n",
        "\n",
        "else:\n",
        "    print(\"Sua nota é D.\")"
      ],
      "metadata": {
        "id": "ZBQoSZ7PJhbk"
      },
      "execution_count": null,
      "outputs": []
    },
    {
      "cell_type": "markdown",
      "source": [
        "### Exemplo:\n",
        "\n",
        "* Escreva um programa que verifique se um número digitado pelo usuário é positivo, negativo ou zero."
      ],
      "metadata": {
        "id": "FwhG1-LSOyxi"
      }
    },
    {
      "cell_type": "markdown",
      "source": [
        "Passo a passo:\n",
        "\n",
        "1. Solicite ao usuário que digite um número.\n",
        "2. Armazene o número digitado em uma variável chamada \"numero\".\n",
        "3. Verifique se o número digitado é igual a zero. Se sim, exiba a mensagem \"O número digitado é zero.\"\n",
        "4. Caso contrário, verifique se o número é maior que zero. Se sim, exiba a mensagem \"O número digitado é positivo.\"\n",
        "5. Se nenhuma das condições anteriores for atendida, significa que o número é negativo. Nesse caso, exiba a mensagem \"O número digitado é negativo.\"\n",
        "6. Encerre o programa."
      ],
      "metadata": {
        "id": "WeApGtrLO9f7"
      }
    },
    {
      "cell_type": "code",
      "source": [
        "numero = float(input(\"Digite um número: \"))\n",
        "\n",
        "if numero == 0:\n",
        "    print(\"O número digitado é zero.\")\n",
        "elif numero > 0:\n",
        "    print(\"O número digitado é positivo.\")\n",
        "else:\n",
        "    print(\"O número digitado é negativo.\")"
      ],
      "metadata": {
        "id": "Szti-gnUJ-Jv"
      },
      "execution_count": null,
      "outputs": []
    },
    {
      "cell_type": "code",
      "source": [
        "nome_dog = str(input(\"Qual o nome do cahorro: \"))\n",
        "\n",
        "if nome_dog == 'Toby':\n",
        "      print('Você acertou!')\n",
        "else:\n",
        "      print('Você errou. Tenta novamente.')"
      ],
      "metadata": {
        "id": "ZndN80WIQSt_"
      },
      "execution_count": null,
      "outputs": []
    },
    {
      "cell_type": "code",
      "source": [],
      "metadata": {
        "id": "weymLVH2RKom"
      },
      "execution_count": null,
      "outputs": []
    },
    {
      "cell_type": "markdown",
      "source": [
        "## Praticando"
      ],
      "metadata": {
        "id": "2Cp-DyA0RfkT"
      }
    },
    {
      "cell_type": "markdown",
      "source": [
        "### Atividade 1\n",
        "\n",
        "Faça um algoritmo que leia um número inteiro e diga se ele é maior, menor ou igual a 10."
      ],
      "metadata": {
        "id": "YPPWXp1uSWbi"
      }
    },
    {
      "cell_type": "code",
      "source": [
        "n1 = int(input(\"Informe um número inteiro: \"))\n",
        "\n",
        "if n1 == 10:\n",
        "    print('Este número é igual a 10.')\n",
        "elif n1 >= 10:\n",
        "    print(f'{n1} é maior que 10.')\n",
        "else:\n",
        "    print(f'{n1} é menor que 10.')"
      ],
      "metadata": {
        "id": "wbp3mfZ7SfJp"
      },
      "execution_count": null,
      "outputs": []
    },
    {
      "cell_type": "markdown",
      "source": [
        "### Atividade 2\n",
        "\n",
        "Faça um algoritmo que leia dois números inteiros e apresente na tela o maior deles ou se eles são iguais."
      ],
      "metadata": {
        "id": "C6QlhuwOTh46"
      }
    },
    {
      "cell_type": "code",
      "source": [
        "n2 = int(input(\"Informe o primeiro número: \"))\n",
        "n3 = int(input(\"Informe o segundo número: \"))\n",
        "\n",
        "if n2 > n3 or n3 > n2:\n",
        "    print(f'{n2} é maior do que {n3} .')\n",
        "elif n3 > n2:\n",
        "    print(f'{n3} é maior do que {n2} .')\n",
        "else:\n",
        "    print(f'{n2} e {n3} são iguais.')\n"
      ],
      "metadata": {
        "id": "jjKXoMUqTvSy"
      },
      "execution_count": null,
      "outputs": []
    },
    {
      "cell_type": "markdown",
      "source": [
        "### Atividade 3\n",
        "\n",
        "Crie um algoritmo que leia um número e diga se ele está no intervalo fechado entre 25 e 200."
      ],
      "metadata": {
        "id": "FEj95z2mV-dn"
      }
    },
    {
      "cell_type": "code",
      "source": [
        "n4 = float(input(\"Informe um número: \"))\n",
        "\n",
        "if n4 >=25 and n4 <=200:\n",
        "    print(f'{n4} está dentro do intervalor que vai de 25 a 200.')\n",
        "else:\n",
        "    print(f'{n4} não está dentro do intervalo que vai de 25 a 200.')"
      ],
      "metadata": {
        "id": "ADKW05VKWElj"
      },
      "execution_count": null,
      "outputs": []
    },
    {
      "cell_type": "markdown",
      "source": [
        "### Atividade 4\n",
        "\n",
        "Crie um algoritmo que leia um número e informe na tela se o mesmo é positivo. Caso seja, mostre o número na tela;"
      ],
      "metadata": {
        "id": "nmE5sDtBXUbT"
      }
    },
    {
      "cell_type": "code",
      "source": [
        "n5 = float(input('Digite um número: '))\n",
        "\n",
        "if n5 > 0:\n",
        "    print(f'{n5} é positivo.')\n",
        "else:\n",
        "  print('Este número é negativo.')"
      ],
      "metadata": {
        "id": "UlyxqwcBXY1v"
      },
      "execution_count": null,
      "outputs": []
    },
    {
      "cell_type": "markdown",
      "source": [
        "### Atividade 5\n",
        "\n",
        "Crie um algoritmo que leia um número e informe se ele é divisível por 7."
      ],
      "metadata": {
        "id": "_KOeF7ufbbu6"
      }
    },
    {
      "cell_type": "code",
      "source": [
        "n6 = float(input(\"Digite um número: \"))\n",
        "\n",
        "if n6 %7 == 0:\n",
        "    print(f'{n6} é divisível por 7.')\n",
        "else:\n",
        "    print(f'Ele não é divisível e o resto é {n6 %7}.')"
      ],
      "metadata": {
        "id": "mbyXoh7xbe5t"
      },
      "execution_count": null,
      "outputs": []
    },
    {
      "cell_type": "markdown",
      "source": [
        "### Ativiade 6\n",
        "\n",
        "Crie um algoritmo que leia um número e diga se ele é par ou ímpar."
      ],
      "metadata": {
        "id": "a8063GAEf5Qb"
      }
    },
    {
      "cell_type": "code",
      "source": [
        "n7 = float(input(\"Digite um número: \"))\n",
        "\n",
        "if n7 %2 == 0:\n",
        "    print(f'{n7} é par.')\n",
        "else:\n",
        "    print(f'{n7} é impar.')"
      ],
      "metadata": {
        "id": "Zjuhr801f9PF"
      },
      "execution_count": null,
      "outputs": []
    },
    {
      "cell_type": "markdown",
      "source": [
        "### Atividade 7\n",
        "\n",
        "Escreva um programa em Python que solicite ao usuário que digite uma letra. Em seguida, verifique se a letra digitada é uma vogal ou não."
      ],
      "metadata": {
        "id": "FqQtDVZMgoDK"
      }
    },
    {
      "cell_type": "code",
      "source": [
        "l1 = str(input('Informe uma letra do alfabeto: '))\n",
        "l1 = l1.casefold()\n",
        "\n",
        "if l1 in 'aeiou':\n",
        "    print(f'{l1} é uma vogal.')\n",
        "else:\n",
        "    print(f'{l1} não é uma vogal.')"
      ],
      "metadata": {
        "id": "cvfknld_hcm5"
      },
      "execution_count": null,
      "outputs": []
    },
    {
      "cell_type": "markdown",
      "source": [
        "### Atividade 8\n",
        "\n",
        "Escreva um programa que solicite ao usuário três notas de um aluno e calcule a média. Em seguida, exiba a média e uma mensagem informando se o aluno foi aprovado (média maior ou igual a 7) ou reprovado."
      ],
      "metadata": {
        "id": "gnj4fbL6lxB8"
      }
    },
    {
      "cell_type": "code",
      "source": [],
      "metadata": {
        "id": "U7IwXJ7j85wR"
      },
      "execution_count": null,
      "outputs": []
    },
    {
      "cell_type": "markdown",
      "source": [
        "### Atividade 9\n",
        "\n",
        "Escreva um programa que solicite ao usuário os comprimentos dos três lados de um triângulo. Em seguida, exiba uma mensagem informando se o triângulo é equilátero (todos os lados iguais), isósceles (dois lados iguais) ou escaleno (todos os lados diferentes)."
      ],
      "metadata": {
        "id": "i9e0Vrgnl3gD"
      }
    },
    {
      "cell_type": "markdown",
      "source": [
        "### Atividade 10\n",
        "\n",
        "Escreva um programa que solicite ao usuário sua idade e exiba uma mensagem informando em qual faixa etária ele se encontra: criança (0-12 anos), adolescente (13-17 anos), adulto (18-59 anos) ou idoso (60 anos ou mais).\n"
      ],
      "metadata": {
        "id": "t54eeRNcRt4F"
      }
    },
    {
      "cell_type": "code",
      "source": [],
      "metadata": {
        "id": "v_Khzp9ARnhw"
      },
      "execution_count": null,
      "outputs": []
    },
    {
      "cell_type": "markdown",
      "source": [
        "## **Estruturas de dados em Python**"
      ],
      "metadata": {
        "id": "BAFql6JlAiFg"
      }
    },
    {
      "cell_type": "markdown",
      "source": [
        "### Listas\n",
        "\n",
        "É uma estrutura que pode armazenar diversos valores sobre um determinado atributo."
      ],
      "metadata": {
        "id": "vu3-vPnYAoJf"
      }
    },
    {
      "cell_type": "markdown",
      "source": [
        "Exemplo:"
      ],
      "metadata": {
        "id": "VXKm6m9Gt28W"
      }
    },
    {
      "cell_type": "code",
      "source": [
        "lista_vazia = [] # Será utilizada mais para a frente da explicação (append+)\n",
        "\n",
        "noivo = ['Zé', 'Mané', 'Ana', 'Fran', 'João', 'Franz']\n",
        "print(f'Segue lista dos convidados do noivo: {noivo}')\n",
        "\n",
        "idade = [41, 47, 46, 28, 17, 50]\n",
        "print(f'A idade dos convidados é: {idade}')\n",
        "\n",
        "massas = [86, 74, 52, 47, 90, 110]\n",
        "print(f'O peso dos convidados é: {massas}')\n",
        "\n",
        "alturas = [1.68, 1.74, 1.65, 1.65, 1.97]\n",
        "print(f'A altura dos convidades é: {alturas}')\n"
      ],
      "metadata": {
        "id": "HEJlkKufAnCm",
        "colab": {
          "base_uri": "https://localhost:8080/"
        },
        "outputId": "a664a1cc-26c5-4b88-fab5-b3d7bc0a4d12"
      },
      "execution_count": 95,
      "outputs": [
        {
          "output_type": "stream",
          "name": "stdout",
          "text": [
            "Segue lista dos convidados do noivo: ['Zé', 'Mané', 'Ana', 'Fran', 'João', 'Franz']\n",
            "A idade dos convidados é: [41, 47, 46, 28, 17, 50]\n",
            "O peso dos convidados é: [86, 74, 52, 47, 90, 110]\n",
            "A altura dos convidades é: [1.68, 1.74, 1.65, 1.65, 1.97]\n"
          ]
        }
      ]
    },
    {
      "cell_type": "markdown",
      "source": [
        "### Acessando um elemento específico da lista a partir do seu índice."
      ],
      "metadata": {
        "id": "aTp7lYz4Fthd"
      }
    },
    {
      "cell_type": "code",
      "source": [
        "print(f' A convidada de honra se chama {noivo[3]}')\n",
        "sublista = noivo[:3]\n",
        "print(sublista)\n",
        "p_u = noivo[0], noivo[-1]\n",
        "print(f'O primeiro convidado é {p_u[0]} e o último convidado é {p_u[-1]}')"
      ],
      "metadata": {
        "id": "YWcc-EvjFIT1",
        "colab": {
          "base_uri": "https://localhost:8080/"
        },
        "outputId": "7d260d17-401c-48db-c3e6-dd5c76e2331c"
      },
      "execution_count": 91,
      "outputs": [
        {
          "output_type": "stream",
          "name": "stdout",
          "text": [
            " A convidada de honra se chama Fran\n",
            "['Zé', 'Mané', 'Ana']\n",
            "O primeiro convidado é Zé e o último convidado é Franz\n"
          ]
        }
      ]
    },
    {
      "cell_type": "markdown",
      "source": [
        "### Método Index"
      ],
      "metadata": {
        "id": "XsV6n9-SQpGw"
      }
    },
    {
      "cell_type": "markdown",
      "source": [
        "Valor procurado; índice de início; índice de fim da procura.\n",
        "Por definição, se não for oferecido o índice de ínicio e fim será procurado na lista toda."
      ],
      "metadata": {
        "id": "Ezp_SpAtuCMf"
      }
    },
    {
      "cell_type": "code",
      "source": [
        "id = noivo.index('Fran')"
      ],
      "metadata": {
        "id": "X22mqY_KGOHG"
      },
      "execution_count": 92,
      "outputs": []
    },
    {
      "cell_type": "code",
      "source": [
        "# Qual é o IMC da convidada Fran\n",
        "print(f'O IMC da Fran é {(massas[id] / alturas[id] ** 2):.2f}')"
      ],
      "metadata": {
        "colab": {
          "base_uri": "https://localhost:8080/"
        },
        "id": "3AQh06XqRUkD",
        "outputId": "3e2c75ed-ab06-44f3-fa4f-9a91a15e32cc"
      },
      "execution_count": 93,
      "outputs": [
        {
          "output_type": "stream",
          "name": "stdout",
          "text": [
            "O IMC da Fran é 17.26\n"
          ]
        }
      ]
    },
    {
      "cell_type": "markdown",
      "source": [
        "### Desafio:\n",
        "\n",
        "Crie um programa que receba do usuário um nome e caso esse nome esteja na lista, guarde seu índice em uma variável e a utilize para buscar massa e altura correspondente, bem como calcular seu IMC e após tudo isso, informar o usuário. Caso o nome não esteja na lista , retorne uma mensagem informando o usuário."
      ],
      "metadata": {
        "id": "Wu4DOjVYcA9C"
      }
    },
    {
      "cell_type": "code",
      "source": [
        "n1 = str(input('Digite um nome: '))\n",
        "n1 = n1.capitalize()\n",
        "id = noivo.index(n1)\n",
        "\n",
        "if n1:\n",
        "  consta = True\n",
        "else:\n",
        "  consta = False\n",
        "\n",
        "if consta == True:\n",
        "    print(f'{n1} está na lista e o seu IMC é {(massas[id] / alturas[id] ** 2):.2f}.')\n",
        "else:\n",
        "    print('Este nome não está na lista.')"
      ],
      "metadata": {
        "id": "b4f2-7qcVHxr",
        "colab": {
          "base_uri": "https://localhost:8080/"
        },
        "outputId": "4de9c996-3f1d-4b7a-d5da-66ac5a6a2d87"
      },
      "execution_count": 94,
      "outputs": [
        {
          "output_type": "stream",
          "name": "stdout",
          "text": [
            "Digite um nome: Fran\n",
            "Fran está na lista e o seu IMC é 17.26.\n"
          ]
        }
      ]
    },
    {
      "cell_type": "markdown",
      "source": [
        "### Comando append()"
      ],
      "metadata": {
        "id": "ZS4SY4O2l8U0"
      }
    },
    {
      "cell_type": "markdown",
      "source": [
        "Adiciona elementos em uma lista qualquer. Por padrão, este método insere o valor desejado em uma lista existente na última posição."
      ],
      "metadata": {
        "id": "S_mh11D3w7hI"
      }
    },
    {
      "cell_type": "code",
      "source": [
        "d = []"
      ],
      "metadata": {
        "id": "j8WhtCc1w9Wo"
      },
      "execution_count": 96,
      "outputs": []
    },
    {
      "cell_type": "markdown",
      "source": [
        "* Obs.: caso a varável criada para guardar a lista não seja declarada junto com o append, toda vez que for executado o código, será impresso um objeto na última posição indefinidamente."
      ],
      "metadata": {
        "id": "wX_tbHh3xeBv"
      }
    },
    {
      "cell_type": "code",
      "source": [
        "# Exemplo sem a variável declarada:\n",
        "\n",
        "d.append(22)\n",
        "print(d)"
      ],
      "metadata": {
        "colab": {
          "base_uri": "https://localhost:8080/"
        },
        "id": "myJBWepPw_mD",
        "outputId": "fc35696f-ad6b-447c-b06a-825fdefc18f5"
      },
      "execution_count": 106,
      "outputs": [
        {
          "output_type": "stream",
          "name": "stdout",
          "text": [
            "[22, 22, 22, 22, 22, 22, 22, 22]\n"
          ]
        }
      ]
    },
    {
      "cell_type": "code",
      "source": [
        "# Exemplo com a variável declarada:\n",
        "\n",
        "d = []\n",
        "d.append(22)\n",
        "print(d)"
      ],
      "metadata": {
        "colab": {
          "base_uri": "https://localhost:8080/"
        },
        "id": "o9Epgae-0NLI",
        "outputId": "4ec2d70c-2de0-4f37-859d-8749c44f8396"
      },
      "execution_count": 108,
      "outputs": [
        {
          "output_type": "stream",
          "name": "stdout",
          "text": [
            "[22]\n"
          ]
        }
      ]
    },
    {
      "cell_type": "code",
      "source": [
        "lista_vazia = [] # cria uma lista vazia com o nome lista vazia e apaga todos os elementos de qualquer objeto com o mesmo nome\n",
        "print(lista_vazia) # imprime uma lista vazia que já existe\n",
        "lista_vazia.append('Joana') # adiciona Joana na última posição de uma lista que já exista\n",
        "lista_vazia.append('Douglas')\n",
        "lista_vazia.append('Eduardo')\n",
        "lista_vazia.append('Ester')\n",
        "lista_vazia.append('Daniela')\n",
        "lista_vazia.append('Pedro')\n",
        "lista_vazia.append('Maria')\n",
        "print(lista_vazia) # imprime o status atual da lista vazia\n",
        "fam = lista_vazia # A variável fam irá receber a lista da variável lista_vazia. A partir daqui, a variável fam será a lista principal.\n",
        "print(lista_vazia)\n",
        "print(fam)"
      ],
      "metadata": {
        "id": "hRSpP90IY1iy",
        "colab": {
          "base_uri": "https://localhost:8080/"
        },
        "outputId": "bbbb9247-6afc-4c86-c158-8257cc72be54"
      },
      "execution_count": 122,
      "outputs": [
        {
          "output_type": "stream",
          "name": "stdout",
          "text": [
            "[]\n",
            "['Joana', 'Douglas', 'Eduardo', 'Ester', 'Daniela', 'Pedro', 'Maria']\n",
            "['Joana', 'Douglas', 'Eduardo', 'Ester', 'Daniela', 'Pedro', 'Maria']\n",
            "['Joana', 'Douglas', 'Eduardo', 'Ester', 'Daniela', 'Pedro', 'Maria']\n"
          ]
        }
      ]
    },
    {
      "cell_type": "markdown",
      "source": [
        "### Comando insert()"
      ],
      "metadata": {
        "id": "EhMMi5V-2ceV"
      }
    },
    {
      "cell_type": "markdown",
      "source": [
        "Este comando insere um objeto dentro de uma lista existente. Primeiro você informa o índice em que será inserido e depois o objeto."
      ],
      "metadata": {
        "id": "23ijIbHD2khc"
      }
    },
    {
      "cell_type": "code",
      "source": [
        "fam.insert(3, 'Tobias')\n",
        "print(fam)"
      ],
      "metadata": {
        "colab": {
          "base_uri": "https://localhost:8080/"
        },
        "id": "VRoxrJSR_msn",
        "outputId": "6085ab5c-adc6-4d3f-ca6c-d42666d29fff"
      },
      "execution_count": 123,
      "outputs": [
        {
          "output_type": "stream",
          "name": "stdout",
          "text": [
            "['Joana', 'Douglas', 'Eduardo', 'Tobias', 'Ester', 'Daniela', 'Pedro', 'Maria']\n"
          ]
        }
      ]
    },
    {
      "cell_type": "markdown",
      "source": [
        "### Atribuição direta"
      ],
      "metadata": {
        "id": "Lr3TqxHo23Nl"
      }
    },
    {
      "cell_type": "markdown",
      "source": [
        "Este comando insere um novo elemento substituindo o anterior, se houver."
      ],
      "metadata": {
        "id": "inrkIpcU29Rv"
      }
    },
    {
      "cell_type": "code",
      "source": [
        "fam[3] = 'Raimundo' # Neste caso, 'Raimundo' substitui 'Tobias' que se encontrava na posição/índice 3.\n",
        "print(fam)"
      ],
      "metadata": {
        "colab": {
          "base_uri": "https://localhost:8080/"
        },
        "id": "ULqSvXGJ_2ML",
        "outputId": "1c8ff0b9-a37d-480d-b3d2-3ad2324ea0a0"
      },
      "execution_count": 124,
      "outputs": [
        {
          "output_type": "stream",
          "name": "stdout",
          "text": [
            "['Joana', 'Douglas', 'Eduardo', 'Raimundo', 'Ester', 'Daniela', 'Pedro', 'Maria']\n"
          ]
        }
      ]
    },
    {
      "cell_type": "markdown",
      "source": [
        "## Excluindo item da lista"
      ],
      "metadata": {
        "id": "-Rhvb_9W4cbx"
      }
    },
    {
      "cell_type": "markdown",
      "source": [
        "### Método pop()"
      ],
      "metadata": {
        "id": "OidhuVRM3UpE"
      }
    },
    {
      "cell_type": "markdown",
      "source": [
        " Este método exclui pelo índice. Por padrão, exclui o último elemento se não informarmos o índice."
      ],
      "metadata": {
        "id": "cVV6sVkW3aBs"
      }
    },
    {
      "cell_type": "code",
      "source": [
        "# Excluir um objeto sem declarar o índice\n",
        "fam.pop()\n",
        "print(fam)"
      ],
      "metadata": {
        "colab": {
          "base_uri": "https://localhost:8080/"
        },
        "id": "E81z16Sv_44Q",
        "outputId": "8a48dbe3-067f-443f-c612-323bde5d1f65"
      },
      "execution_count": 125,
      "outputs": [
        {
          "output_type": "stream",
          "name": "stdout",
          "text": [
            "['Joana', 'Douglas', 'Eduardo', 'Raimundo', 'Ester', 'Daniela', 'Pedro']\n"
          ]
        }
      ]
    },
    {
      "cell_type": "code",
      "source": [
        "# Excluir um objeto declarando seu índice\n",
        "fam.pop(0)\n",
        "print(fam)"
      ],
      "metadata": {
        "colab": {
          "base_uri": "https://localhost:8080/"
        },
        "id": "Ea7T1F0h_615",
        "outputId": "063ccdac-2e2b-4b3f-c5ac-890db0fc6edf"
      },
      "execution_count": 126,
      "outputs": [
        {
          "output_type": "stream",
          "name": "stdout",
          "text": [
            "['Douglas', 'Eduardo', 'Raimundo', 'Ester', 'Daniela', 'Pedro']\n"
          ]
        }
      ]
    },
    {
      "cell_type": "markdown",
      "source": [
        "### Método remove()"
      ],
      "metadata": {
        "id": "kALH3rBH35Hp"
      }
    },
    {
      "cell_type": "markdown",
      "source": [
        "Exclui o objeto diretamente pelo seu nome."
      ],
      "metadata": {
        "id": "04FPvPiD4r_P"
      }
    },
    {
      "cell_type": "code",
      "source": [
        "fam.remove('Raimundo')\n",
        "print(fam)"
      ],
      "metadata": {
        "colab": {
          "base_uri": "https://localhost:8080/"
        },
        "id": "5_7BGI9__8ZK",
        "outputId": "0c96c6bc-3fa1-4ab9-b188-c671615560ec"
      },
      "execution_count": 127,
      "outputs": [
        {
          "output_type": "stream",
          "name": "stdout",
          "text": [
            "['Douglas', 'Eduardo', 'Ester', 'Daniela', 'Pedro']\n"
          ]
        }
      ]
    },
    {
      "cell_type": "markdown",
      "source": [],
      "metadata": {
        "id": "U2ZyVulH5LiT"
      }
    },
    {
      "cell_type": "code",
      "source": [
        "# criando uma lista com strings\n",
        "nomes = ['Douglas', 'Daniela', 'Pedro', 'Maria', 'Eduardo', 'Ester']\n",
        "\n",
        "# criando uma lista com números inteiros\n",
        "pesos = [78, 25, 98, 63, 92, 67]\n",
        "\n",
        "# criando uma lista com números fracionários\n",
        "alturas = [1.85, 1.29, 1.75, 1.67, 1.82, 1.70]"
      ],
      "metadata": {
        "id": "w7y4DvFkei3B"
      },
      "execution_count": null,
      "outputs": []
    },
    {
      "cell_type": "code",
      "source": [
        "# forçando um erro usando o remove\n",
        "nomes.remove('xerox')"
      ],
      "metadata": {
        "id": "Le9sYj-xekv6"
      },
      "execution_count": null,
      "outputs": []
    },
    {
      "cell_type": "code",
      "source": [
        "# solução 1\n",
        "teste = input('Informe o nome que deseja excluir da lista: ') # recebe um nome do usuário e o guarda na variável teste\n",
        "teste = teste.capitalize() # Padroniza a variável teste com a primeira letra maiúscula\n",
        "if teste in nomes: # verifica se o nome armazenado em teste está na lista de nomes\n",
        "  nomes.remove(teste) # se somente se o nome armazenado em teste estiver na lista, faz a exclusão\n",
        "  print(f'O nome {teste} foi exluído com sucesso') # imprime o resultado da exclusão se somente se ela for feita\n",
        "else:\n",
        "  print(f'O nome {teste} não está na lista, logo não pode ser excluído') # Caso o nome digitado não esteja na lista informa o usuário essa situação"
      ],
      "metadata": {
        "id": "x5J_E_f4elPb"
      },
      "execution_count": null,
      "outputs": []
    },
    {
      "cell_type": "code",
      "source": [
        "# solução 2 (utlizando try/except)\n",
        "teste2 = input('Informe o nome que deseja excluir da lista: ') # recebe um nome do usuário e o guarda na variável teste\n",
        "teste2 = teste2.capitalize()# Padroniza a variável teste com a primeira letra maiúscula\n",
        "try: # comando para tentar fazer alguma ação\n",
        "  nomes.remove(teste2) # ação que será feita caso a tentativa seja bem sucedida (neste caso se o nome digitado estiver na lista)\n",
        "  print(f'O nome {teste2} foi excluído com sucesso') # imprime o resultado da exclusão se somente se ela for feita\n",
        "except: # comando para o caso da tentativa (try) ser mal sucedida (no caso se o nome não estiver na lista)\n",
        "  print(f'O nome {teste2} não está na lista, logo não pode ser excluído') # Caso o nome digitado não esteja na lista informa o usuário essa situação"
      ],
      "metadata": {
        "id": "WjJcidVSeo_1"
      },
      "execution_count": null,
      "outputs": []
    },
    {
      "cell_type": "code",
      "source": [
        "# Tamanho da lista len(lista)\n",
        "print(len(nomes))\n",
        "\n",
        "# Maior valor da lista\n",
        "print(max(pesos))\n",
        "\n",
        "# Menor valor da lista\n",
        "print(min(alturas))\n",
        "\n",
        "# Soma dos valores de uma lista\n",
        "print(sum(alturas))\n",
        "\n",
        "# Contando a frequência de um valor em uma lista\n",
        "print(nomes.count('Douglas'))\n",
        "\n",
        "# Ordenar uma lista crescente\n",
        "nomes.sort()\n",
        "print(nomes)\n",
        "# Ordenar uma lista crescente\n",
        "nomes.sort(reverse=True)\n",
        "print(nomes)"
      ],
      "metadata": {
        "id": "Fg_mPMl3eq_L"
      },
      "execution_count": null,
      "outputs": []
    },
    {
      "cell_type": "code",
      "source": [
        "# Adicionando todos os elementos de uma lista em outra usando o método extend\n",
        "# Melhor para alteração no banco de dados\n",
        "nomes1 = ['Zé', 'Mané']\n",
        "nomes2 = ['Ana', 'José']\n",
        "\n",
        "nomes1.extend(nomes2)\n",
        "\n",
        "print(nomes1)"
      ],
      "metadata": {
        "id": "IZ_nNMXaeszp"
      },
      "execution_count": null,
      "outputs": []
    },
    {
      "cell_type": "code",
      "source": [
        "# Adicionando todos os elementos de uma lista em outra usando sinal de (+) (concatenando listas)\n",
        "# Melhor para filtro\n",
        "nomes1 = ['Zé', 'Mané']\n",
        "nomes2 = ['Ana', 'José']\n",
        "\n",
        "teste = nomes1 + nomes2\n",
        "print(teste)"
      ],
      "metadata": {
        "id": "8yMqhqIeeubv"
      },
      "execution_count": null,
      "outputs": []
    },
    {
      "cell_type": "code",
      "source": [
        "# Colocando uma lista dentro de outra\n",
        "carros = ['Fusca', 'Gol']\n",
        "carros2 = ['Uno', 'Punto', 'Bravo']\n",
        "carros.append(carros2)\n",
        "print(carros)"
      ],
      "metadata": {
        "id": "z1qIXli1ewv4"
      },
      "execution_count": null,
      "outputs": []
    },
    {
      "cell_type": "code",
      "source": [
        "# tirando uma lista da outra\n",
        "fiat = carros[2]\n",
        "print(fiat)"
      ],
      "metadata": {
        "id": "rEcJ4o_key7m"
      },
      "execution_count": null,
      "outputs": []
    },
    {
      "cell_type": "code",
      "source": [
        "# acessando um item de uma lista que está dentro de outra\n",
        "ok = carros[2][0]\n",
        "print(f'O melhor carro de todos os tempos é {ok}')"
      ],
      "metadata": {
        "id": "XxBmB2Fee0j6"
      },
      "execution_count": null,
      "outputs": []
    },
    {
      "cell_type": "markdown",
      "source": [
        "### Função Range"
      ],
      "metadata": {
        "id": "icbMS7r4e1m9"
      }
    },
    {
      "cell_type": "code",
      "source": [
        "# Função range com um argumento cria um lista com n valores inteiros de 0 a a n-1\n",
        "lista1 = list(range(5))\n",
        "print(lista1)\n",
        "# Função range com dois argumentos cria um lista com n valores inteiros do início informado no primeiro argumento até  ((n-1) - primeiro argumento informado) informado no segundo argumento\n",
        "lista2 = list(range(1,5))\n",
        "print(lista2)\n",
        "# Função range com três argumentos cria um lista com definição de onde começar (primeiro argumento), onde parar (segundo argumento) e de qual tamando de intervalo entre os valores (terceiro argumento)\n",
        "lista3 = list(range(1,5,2))\n",
        "print(lista3)"
      ],
      "metadata": {
        "colab": {
          "base_uri": "https://localhost:8080/"
        },
        "id": "Kk5FSc42e5Qm",
        "outputId": "7f43b1fe-b127-4d34-e0fd-1b6e686d3782"
      },
      "execution_count": null,
      "outputs": [
        {
          "output_type": "stream",
          "name": "stdout",
          "text": [
            "[0, 1, 2, 3, 4]\n",
            "[1, 2, 3, 4]\n",
            "[1, 3]\n"
          ]
        }
      ]
    },
    {
      "cell_type": "markdown",
      "source": [
        "## **Estruturas de Repetição (For)**"
      ],
      "metadata": {
        "id": "VnWqfqHLAxKe"
      }
    },
    {
      "cell_type": "code",
      "source": [
        "# Apresentando e utilizando o for de forma simples\n",
        "pesos = [78, 25, 98, 63, 92, 67]\n",
        "for peso in pesos:\n",
        "  print(peso)"
      ],
      "metadata": {
        "id": "LOHa_N8RA28D"
      },
      "execution_count": null,
      "outputs": []
    },
    {
      "cell_type": "code",
      "source": [
        "# Utilizando o for com else\n",
        "for i in pesos:\n",
        "    print(i)\n",
        "else:\n",
        "    print('Todos os items foram exibidos com sucesso')"
      ],
      "metadata": {
        "id": "Ew9oKYLs-ByK"
      },
      "execution_count": null,
      "outputs": []
    },
    {
      "cell_type": "code",
      "source": [
        "notas = [5, 9, 6, 8, 7]\n",
        "for i in notas:\n",
        "  print(i)"
      ],
      "metadata": {
        "id": "VZR-aWHD-D26"
      },
      "execution_count": null,
      "outputs": []
    },
    {
      "cell_type": "markdown",
      "source": [
        "Função enumerate"
      ],
      "metadata": {
        "id": "Ye7CMBqU6Yf2"
      }
    },
    {
      "cell_type": "code",
      "source": [
        "notas = [5, 9, 6, 8, 7]\n",
        "\n",
        "for i, v in enumerate(notas):\n",
        "  print(i,v)"
      ],
      "metadata": {
        "id": "2kzU0_L36dtZ"
      },
      "execution_count": null,
      "outputs": []
    },
    {
      "cell_type": "code",
      "source": [
        "# Utilizando o for com range\n",
        "alturas = [1.85, 1.29, 1.75, 1.67, 1.82, 1.70]\n",
        "alturas_quad = []\n",
        "imc = []\n",
        "for i in range(len(alturas)):\n",
        "  alturas_quad.append(alturas[i]**2)\n",
        "  imc.append(pesos[i]/alturas_quad[i])\n",
        "print(f'IMC {imc}')"
      ],
      "metadata": {
        "id": "jEfkg2Iy6L05"
      },
      "execution_count": null,
      "outputs": []
    },
    {
      "cell_type": "code",
      "source": [
        "notas[0]"
      ],
      "metadata": {
        "id": "_NSywtwI6jEu"
      },
      "execution_count": null,
      "outputs": []
    },
    {
      "cell_type": "code",
      "source": [
        "# Utilizando o for com range\n",
        "alturas = [1.85, 1.29, 1.75, 1.67, 1.82, 1.70]\n",
        "pesos = [78, 25, 98, 63, 92, 67]\n",
        "alturas_quad = []\n",
        "imc = []\n",
        "for i in range(len(alturas)):\n",
        "  alturas_quad.append(alturas[i]**2)\n",
        "  imc.append(pesos[i]/alturas_quad[i])\n",
        "print(f'IMC {imc}')\n",
        "print(alturas_quad)"
      ],
      "metadata": {
        "id": "pduDrOPa6Nsi"
      },
      "execution_count": null,
      "outputs": []
    },
    {
      "cell_type": "code",
      "source": [
        "# Utilizando o for com enumerate\n",
        "alturas_quad = []\n",
        "imc = []\n",
        "for i, v in enumerate(pesos):\n",
        "  print(i)\n",
        "  print(v)\n",
        "  alturas_quad.append(alturas[i]**2)\n",
        "  imc.append(pesos[i]/alturas_quad[i])\n",
        "print(f'IMC {imc}')"
      ],
      "metadata": {
        "id": "91PqftaF6PjD"
      },
      "execution_count": null,
      "outputs": []
    },
    {
      "cell_type": "markdown",
      "source": [
        "## **Desafio**"
      ],
      "metadata": {
        "id": "UR-Dk1989oM2"
      }
    },
    {
      "cell_type": "markdown",
      "source": [
        "### Atividade 1"
      ],
      "metadata": {
        "id": "DV4Z-vtL6zGN"
      }
    },
    {
      "cell_type": "markdown",
      "source": [
        "Crie um script que receba do usuário uma lista de n números inteiros digitados pelo usuário na mesma caixa de entrada separados por espaços e após isso utilize o método split para separar esses números e armazená-los em uma lista acesse o índice 0 dessa nova lista e verifique seu tipo e caso seja o tipo inteiro imprima para o usuário a seguinte mensagem: este valor é do tipo inteiro, caso contrário imprima: este valor não é do tipo inteiro."
      ],
      "metadata": {
        "id": "xcOZkJqj9rDh"
      }
    },
    {
      "cell_type": "code",
      "source": [
        "lista_1 = (input('Digite uma sequência de números: '))\n",
        "lista_2 = lista_1.split()\n",
        "lista_zero = []\n",
        "lista_zero.extend(lista_2)\n",
        "print(lista_zero)\n",
        "indice_0 = lista_zero[0]\n",
        "\n",
        "if indice_0 == int:\n",
        "  print('Este número é inteiro.')\n",
        "else:\n",
        "  print('Este número não é um inteiro.')"
      ],
      "metadata": {
        "colab": {
          "base_uri": "https://localhost:8080/"
        },
        "id": "ZoN9PRC69qcA",
        "outputId": "e7f7832e-4bc6-41b9-b13b-779c439f9a16"
      },
      "execution_count": null,
      "outputs": [
        {
          "output_type": "stream",
          "name": "stdout",
          "text": [
            "Digite uma sequência de números: 1 2 3 4 5 6\n",
            "['1', '2', '3', '4', '5', '6']\n",
            "Este número não é um inteiro.\n"
          ]
        }
      ]
    },
    {
      "cell_type": "markdown",
      "source": [
        "### Atividade 2"
      ],
      "metadata": {
        "id": "RoJszRcWLYuD"
      }
    },
    {
      "cell_type": "markdown",
      "source": [
        "Crie um script que aproveite a lista utilizada para imprimir a mensagem do exercício\n",
        "anterior e utilize uma estrutura for que percorra toda a lista e faça a tipagem de cada\n",
        "valor como inteiro, após isso acesse o índice 0 dessa nova lista e verifique seu tipo e\n",
        "caso seja o tipo inteiro imprima para o usuário a seguinte mensagem: este valor é do\n",
        "tipo inteiro, caso contrário imprima: este valor não é do tipo inteiro."
      ],
      "metadata": {
        "id": "pWbosGjMLbaZ"
      }
    },
    {
      "cell_type": "code",
      "source": [
        "lista_nova = lista_zero\n",
        "nova_lista = []\n",
        "\n",
        "for x in lista_nova:\n",
        "  nova_lista.append(int(x))\n",
        "\n",
        "if nova_lista[0]:\n",
        "  print('Este número é inteiro.')\n",
        "else:\n",
        "  print('Este número não é um inteiro.')"
      ],
      "metadata": {
        "colab": {
          "base_uri": "https://localhost:8080/"
        },
        "id": "TYX54z5pLU9J",
        "outputId": "58e3bd69-3719-4f14-cc09-1f56530a38a6"
      },
      "execution_count": null,
      "outputs": [
        {
          "output_type": "stream",
          "name": "stdout",
          "text": [
            "Este número é inteiro.\n"
          ]
        }
      ]
    },
    {
      "cell_type": "markdown",
      "source": [
        "### Atividade 3"
      ],
      "metadata": {
        "id": "obd36e6NXYpW"
      }
    },
    {
      "cell_type": "markdown",
      "source": [
        "Utilizando a lista tipada como int do exercício 2, faça um print que exiba a soma de\n",
        "todos os valores dessa lista."
      ],
      "metadata": {
        "id": "olNsF4R0XeFY"
      }
    },
    {
      "cell_type": "code",
      "source": [
        "print(sum(nova_lista))"
      ],
      "metadata": {
        "colab": {
          "base_uri": "https://localhost:8080/"
        },
        "id": "KAy7cf7UFBy5",
        "outputId": "bacea965-4bdf-4d44-ba06-d86d0521ffee"
      },
      "execution_count": null,
      "outputs": [
        {
          "output_type": "stream",
          "name": "stdout",
          "text": [
            "21\n"
          ]
        }
      ]
    },
    {
      "cell_type": "markdown",
      "source": [
        "### Atividade 4"
      ],
      "metadata": {
        "id": "2TQT7a7RXkJN"
      }
    },
    {
      "cell_type": "markdown",
      "source": [
        "Crie uma lista vazia denominada quadrados e utilizando a lista tipada como int do\n",
        "exercício 2, faça uma estrutura do tipo for que percorra cada elemento dessa lista de\n",
        "números inteiros, eleve cada valor encontrado ao quadrado e insira cada resultado na\n",
        "lista quadrados e ao final exiba a soma dos valores da lista quadrados."
      ],
      "metadata": {
        "id": "As3MckIkXm4w"
      }
    },
    {
      "cell_type": "code",
      "source": [
        "quadrados = []\n",
        "for x in nova_lista:\n",
        "  quadrados.append(x**2)\n",
        "print(sum(quadrados))"
      ],
      "metadata": {
        "colab": {
          "base_uri": "https://localhost:8080/"
        },
        "id": "EmugkhMSXiDO",
        "outputId": "b418ed4a-add7-477f-920f-d2156a8dbe1e"
      },
      "execution_count": null,
      "outputs": [
        {
          "output_type": "stream",
          "name": "stdout",
          "text": [
            "91\n"
          ]
        }
      ]
    },
    {
      "cell_type": "markdown",
      "source": [
        "### Atividade 5"
      ],
      "metadata": {
        "id": "aTV3hnwWZH_R"
      }
    },
    {
      "cell_type": "markdown",
      "source": [
        "Crie um programa que receba do usuário duas listas de n números inteiros digitados\n",
        "pelo usuário separados por espaços e após isso utilize o método split para dividir cada\n",
        "lista gerando duas novas listas chamadas x e y é importante deixar claro para o usuário\n",
        "que as duas listas digitadas devem ter a mesma quantidade de números digitados\n",
        "independente de quantos sejam. Após isso, faça a tipagem de todos os números das\n",
        "duas listas como float, então crie três novas listas vazias: xquad, yquad e xy. Agora\n",
        "preencha a lista xquad com cada elemento da lista x elevado ao quadrado, depois faça\n",
        "o mesmo para yquad, elevando cada elemento de y ao quadrado e por último preencha\n",
        "a lista xy fazendo a multiplicação de cada valor da lista x pelo seu correspondente na\n",
        "lista y. No final crie a variável sx que recebe a soma dos valores da lista x, a variável sy\n",
        "que recebe a soma dos valores da lista y, a variável sxquad, que recebe a soma da lista\n",
        "xquad, a variável syquad que recebe a soma da lista de yquad e a variável sxy que\n",
        "recebe a soma da lista de xy e no final imprima todas as variáveis de soma criadas."
      ],
      "metadata": {
        "id": "6EkjlynnZQ6Q"
      }
    },
    {
      "cell_type": "code",
      "source": [
        "l1 = input(\"Digite uma primeira sequência de números: \")\n",
        "l2 = input(\"Digite uma segunda sequência de  números (na mesma quantidade da primeira): \")\n",
        "\n",
        "x = l1.split()\n",
        "y = l2.split()\n",
        "\n",
        "x = [float(i) for i in x]\n",
        "y = [float(i) for i in y]\n",
        "\n",
        "xquad = []\n",
        "yquad = []\n",
        "xy = []\n",
        "\n",
        "for i in x:\n",
        "  xquad.append(i**2)\n",
        "print(xquad)\n",
        "\n",
        "for i in y:\n",
        "  yquad.append(i**2)\n",
        "print(yquad)\n",
        "\n",
        "for i in range(len(x)):\n",
        "  xy.append(x[i]*y[i])\n",
        "print(xy)\n",
        "\n",
        "sx = sum(x)\n",
        "sy = sum(y)\n",
        "sxquad = sum(xquad)\n",
        "syquad = sum(yquad)\n",
        "sxy = sum(xy)\n",
        "\n",
        "print(f\"O valor total de sx é {sx}.\")\n",
        "print(f\"O valor total de sy é {sy}.\")\n",
        "print(f\"O valor total de sxquad é {sxquad}.\")\n",
        "print(f\"O valor total de sy quad é {syquad}.\")\n",
        "print(f\"O valor total de sxy é {sxy}.\")"
      ],
      "metadata": {
        "colab": {
          "base_uri": "https://localhost:8080/"
        },
        "id": "278QC4UAYiak",
        "outputId": "79a10120-e737-4f08-d1ca-16a511a3548c"
      },
      "execution_count": null,
      "outputs": [
        {
          "output_type": "stream",
          "name": "stdout",
          "text": [
            "Digite uma primeira sequência de números: 1 2 3\n",
            "Digite uma segunda sequência de  números (na mesma quantidade da primeira): 4 5 6\n",
            "[1.0, 4.0, 9.0]\n",
            "[16.0, 25.0, 36.0]\n",
            "[4.0, 10.0, 18.0]\n",
            "O valor total de sx é 6.0.\n",
            "O valor total de sy é 15.0.\n",
            "O valor total de sxquad é 14.0.\n",
            "O valor total de syquad é 77.0.\n",
            "O valor total de sxy é 32.0.\n"
          ]
        }
      ]
    },
    {
      "cell_type": "code",
      "source": [],
      "metadata": {
        "id": "LXLyLb2EaI70"
      },
      "execution_count": null,
      "outputs": []
    }
  ]
}